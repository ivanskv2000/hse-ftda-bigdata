{
  "cells": [
    {
      "cell_type": "markdown",
      "metadata": {
        "id": "5_THwTm8kyMU"
      },
      "source": [
        "# install stuff"
      ]
    },
    {
      "cell_type": "code",
      "source": [
        "# https://getfile.dokpub.com/yandex/\n",
        "!wget https://getfile.dokpub.com/yandex/get/https://disk.yandex.ru/d/iwvBZBEbSxrxKA\n",
        "!mv iwvBZBEbSxrxKA hw_data.zip\n",
        "!unzip -qq \\*.zip\n",
        "!ls"
      ],
      "metadata": {
        "id": "FaW7lVZjnLE3",
        "colab": {
          "base_uri": "https://localhost:8080/"
        },
        "outputId": "271efdee-0281-404a-c7cd-c262eabc7b26"
      },
      "execution_count": 1,
      "outputs": [
        {
          "output_type": "stream",
          "name": "stdout",
          "text": [
            "connected.\n",
            "HTTP request sent, awaiting response... 302 Found\n",
            "Location: https://s73vlx.storage.yandex.net/rdisk/c210e36198b1dca97ce5536888cea5bb54ad1ff14eccb49e0b33f2f991dd4545/648601e8/zRSoMcrzFZAW_dPFYqsjx_KBInBOWlW_Y6J58u9RXwEdaVyzd_SdFUVi2KBA63vuv2olNLMmZ5pLuSl_RqcnUg==?uid=0&filename=hw_data.zip&disposition=attachment&hash=SxFOJWP5EtYiwMY6efCvft3ej0uItcqyAJOZBQe/NxqNYZ8EChgGhZ/8eiE2OsRdq/J6bpmRyOJonT3VoXnDag%3D%3D%3A&limit=0&content_type=application%2Fzip&owner_uid=225893658&fsize=763284441&hid=0250d3dd2aec14e3a9b72b4afa018e11&media_type=compressed&tknv=v2&rtoken=pVmgNHLCOWHq&force_default=no&ycrid=na-98f450600d1d48deb9eeefc90f6ca7c3-downloader1f&ts=5fdddca964a00&s=55093e257a908ccb66f94c4b533f629d10a03339bc82bdebcfb83af86dc206ef&pb=U2FsdGVkX19c5Ipcqd8UbpDYQdnc6AHP96LpwFHXCF5VP79d788v3rMaonAqPdk7qKlL5g_bwC8N9OjCvS5ufD9XzNwGt6lT3CsHnB6sKKE [following]\n",
            "--2023-06-11 14:45:15--  https://s73vlx.storage.yandex.net/rdisk/c210e36198b1dca97ce5536888cea5bb54ad1ff14eccb49e0b33f2f991dd4545/648601e8/zRSoMcrzFZAW_dPFYqsjx_KBInBOWlW_Y6J58u9RXwEdaVyzd_SdFUVi2KBA63vuv2olNLMmZ5pLuSl_RqcnUg==?uid=0&filename=hw_data.zip&disposition=attachment&hash=SxFOJWP5EtYiwMY6efCvft3ej0uItcqyAJOZBQe/NxqNYZ8EChgGhZ/8eiE2OsRdq/J6bpmRyOJonT3VoXnDag%3D%3D%3A&limit=0&content_type=application%2Fzip&owner_uid=225893658&fsize=763284441&hid=0250d3dd2aec14e3a9b72b4afa018e11&media_type=compressed&tknv=v2&rtoken=pVmgNHLCOWHq&force_default=no&ycrid=na-98f450600d1d48deb9eeefc90f6ca7c3-downloader1f&ts=5fdddca964a00&s=55093e257a908ccb66f94c4b533f629d10a03339bc82bdebcfb83af86dc206ef&pb=U2FsdGVkX19c5Ipcqd8UbpDYQdnc6AHP96LpwFHXCF5VP79d788v3rMaonAqPdk7qKlL5g_bwC8N9OjCvS5ufD9XzNwGt6lT3CsHnB6sKKE\n",
            "Resolving s73vlx.storage.yandex.net (s73vlx.storage.yandex.net)... 5.45.236.201, 2a02:6b8:c34:25:0:41af:1c13:4aed\n",
            "Connecting to s73vlx.storage.yandex.net (s73vlx.storage.yandex.net)|5.45.236.201|:443... connected.\n",
            "HTTP request sent, awaiting response... 200 OK\n",
            "Length: 763284441 (728M) [application/zip]\n",
            "Saving to: ‘iwvBZBEbSxrxKA’\n",
            "\n",
            "iwvBZBEbSxrxKA      100%[===================>] 727.92M  10.3MB/s    in 74s     \n",
            "\n",
            "2023-06-11 14:46:31 (9.87 MB/s) - ‘iwvBZBEbSxrxKA’ saved [763284441/763284441]\n",
            "\n",
            "channels_orc  hw_data.zip  posts_test.orc  posts_train.orc  sample_data\n"
          ]
        }
      ]
    },
    {
      "cell_type": "code",
      "source": [
        "!pip3 install catboost\n",
        "!pip3 install emoji==2.4.0\n",
        "!pip3 install pyspark pandas scikit-learn"
      ],
      "metadata": {
        "id": "_Yq813XyHIw7",
        "colab": {
          "base_uri": "https://localhost:8080/"
        },
        "outputId": "1edae9a6-9001-4fbf-9524-377a47d58b87"
      },
      "execution_count": 2,
      "outputs": [
        {
          "output_type": "stream",
          "name": "stdout",
          "text": [
            "Looking in indexes: https://pypi.org/simple, https://us-python.pkg.dev/colab-wheels/public/simple/\n",
            "Collecting catboost\n",
            "  Downloading catboost-1.2-cp310-cp310-manylinux2014_x86_64.whl (98.6 MB)\n",
            "\u001b[2K     \u001b[90m━━━━━━━━━━━━━━━━━━━━━━━━━━━━━━━━━━━━━━━━\u001b[0m \u001b[32m98.6/98.6 MB\u001b[0m \u001b[31m9.0 MB/s\u001b[0m eta \u001b[36m0:00:00\u001b[0m\n",
            "\u001b[?25hRequirement already satisfied: graphviz in /usr/local/lib/python3.10/dist-packages (from catboost) (0.20.1)\n",
            "Requirement already satisfied: matplotlib in /usr/local/lib/python3.10/dist-packages (from catboost) (3.7.1)\n",
            "Requirement already satisfied: numpy>=1.16.0 in /usr/local/lib/python3.10/dist-packages (from catboost) (1.22.4)\n",
            "Requirement already satisfied: pandas>=0.24 in /usr/local/lib/python3.10/dist-packages (from catboost) (1.5.3)\n",
            "Requirement already satisfied: scipy in /usr/local/lib/python3.10/dist-packages (from catboost) (1.10.1)\n",
            "Requirement already satisfied: plotly in /usr/local/lib/python3.10/dist-packages (from catboost) (5.13.1)\n",
            "Requirement already satisfied: six in /usr/local/lib/python3.10/dist-packages (from catboost) (1.16.0)\n",
            "Requirement already satisfied: python-dateutil>=2.8.1 in /usr/local/lib/python3.10/dist-packages (from pandas>=0.24->catboost) (2.8.2)\n",
            "Requirement already satisfied: pytz>=2020.1 in /usr/local/lib/python3.10/dist-packages (from pandas>=0.24->catboost) (2022.7.1)\n",
            "Requirement already satisfied: contourpy>=1.0.1 in /usr/local/lib/python3.10/dist-packages (from matplotlib->catboost) (1.0.7)\n",
            "Requirement already satisfied: cycler>=0.10 in /usr/local/lib/python3.10/dist-packages (from matplotlib->catboost) (0.11.0)\n",
            "Requirement already satisfied: fonttools>=4.22.0 in /usr/local/lib/python3.10/dist-packages (from matplotlib->catboost) (4.39.3)\n",
            "Requirement already satisfied: kiwisolver>=1.0.1 in /usr/local/lib/python3.10/dist-packages (from matplotlib->catboost) (1.4.4)\n",
            "Requirement already satisfied: packaging>=20.0 in /usr/local/lib/python3.10/dist-packages (from matplotlib->catboost) (23.1)\n",
            "Requirement already satisfied: pillow>=6.2.0 in /usr/local/lib/python3.10/dist-packages (from matplotlib->catboost) (8.4.0)\n",
            "Requirement already satisfied: pyparsing>=2.3.1 in /usr/local/lib/python3.10/dist-packages (from matplotlib->catboost) (3.0.9)\n",
            "Requirement already satisfied: tenacity>=6.2.0 in /usr/local/lib/python3.10/dist-packages (from plotly->catboost) (8.2.2)\n",
            "Installing collected packages: catboost\n",
            "Successfully installed catboost-1.2\n",
            "Looking in indexes: https://pypi.org/simple, https://us-python.pkg.dev/colab-wheels/public/simple/\n",
            "Collecting emoji==2.4.0\n",
            "  Downloading emoji-2.4.0.tar.gz (353 kB)\n",
            "\u001b[2K     \u001b[90m━━━━━━━━━━━━━━━━━━━━━━━━━━━━━━━━━━━━━━━\u001b[0m \u001b[32m353.7/353.7 kB\u001b[0m \u001b[31m2.4 MB/s\u001b[0m eta \u001b[36m0:00:00\u001b[0m\n",
            "\u001b[?25h  Preparing metadata (setup.py) ... \u001b[?25l\u001b[?25hdone\n",
            "Building wheels for collected packages: emoji\n",
            "  Building wheel for emoji (setup.py) ... \u001b[?25l\u001b[?25hdone\n",
            "  Created wheel for emoji: filename=emoji-2.4.0-py2.py3-none-any.whl size=350809 sha256=31dc141c91dee92f60f73671d64bbf09119a70b2afeb3234b122528d9926fe45\n",
            "  Stored in directory: /root/.cache/pip/wheels/79/29/1c/234cae4632803c2ba4a76a71a679eb1383cf590775714e2a21\n",
            "Successfully built emoji\n",
            "Installing collected packages: emoji\n",
            "Successfully installed emoji-2.4.0\n",
            "Looking in indexes: https://pypi.org/simple, https://us-python.pkg.dev/colab-wheels/public/simple/\n",
            "Collecting pyspark\n",
            "  Downloading pyspark-3.4.0.tar.gz (310.8 MB)\n",
            "\u001b[2K     \u001b[90m━━━━━━━━━━━━━━━━━━━━━━━━━━━━━━━━━━━━━━━\u001b[0m \u001b[32m310.8/310.8 MB\u001b[0m \u001b[31m4.4 MB/s\u001b[0m eta \u001b[36m0:00:00\u001b[0m\n",
            "\u001b[?25h  Preparing metadata (setup.py) ... \u001b[?25l\u001b[?25hdone\n",
            "Requirement already satisfied: pandas in /usr/local/lib/python3.10/dist-packages (1.5.3)\n",
            "Requirement already satisfied: scikit-learn in /usr/local/lib/python3.10/dist-packages (1.2.2)\n",
            "Requirement already satisfied: py4j==0.10.9.7 in /usr/local/lib/python3.10/dist-packages (from pyspark) (0.10.9.7)\n",
            "Requirement already satisfied: python-dateutil>=2.8.1 in /usr/local/lib/python3.10/dist-packages (from pandas) (2.8.2)\n",
            "Requirement already satisfied: pytz>=2020.1 in /usr/local/lib/python3.10/dist-packages (from pandas) (2022.7.1)\n",
            "Requirement already satisfied: numpy>=1.21.0 in /usr/local/lib/python3.10/dist-packages (from pandas) (1.22.4)\n",
            "Requirement already satisfied: scipy>=1.3.2 in /usr/local/lib/python3.10/dist-packages (from scikit-learn) (1.10.1)\n",
            "Requirement already satisfied: joblib>=1.1.1 in /usr/local/lib/python3.10/dist-packages (from scikit-learn) (1.2.0)\n",
            "Requirement already satisfied: threadpoolctl>=2.0.0 in /usr/local/lib/python3.10/dist-packages (from scikit-learn) (3.1.0)\n",
            "Requirement already satisfied: six>=1.5 in /usr/local/lib/python3.10/dist-packages (from python-dateutil>=2.8.1->pandas) (1.16.0)\n",
            "Building wheels for collected packages: pyspark\n",
            "  Building wheel for pyspark (setup.py) ... \u001b[?25l\u001b[?25hdone\n",
            "  Created wheel for pyspark: filename=pyspark-3.4.0-py2.py3-none-any.whl size=311317130 sha256=e7f8765e6c06b1f1bb7579e3533b8dcf896e4232886c9eafc226fbde5527e5d0\n",
            "  Stored in directory: /root/.cache/pip/wheels/7b/1b/4b/3363a1d04368e7ff0d408e57ff57966fcdf00583774e761327\n",
            "Successfully built pyspark\n",
            "Installing collected packages: pyspark\n",
            "Successfully installed pyspark-3.4.0\n"
          ]
        }
      ]
    },
    {
      "cell_type": "markdown",
      "metadata": {
        "id": "5xInSz2gkyMa"
      },
      "source": [
        "# setup pyspark"
      ]
    },
    {
      "cell_type": "code",
      "execution_count": 3,
      "metadata": {
        "id": "gENfBAKBkyMa"
      },
      "outputs": [],
      "source": [
        "import pyspark.sql\n",
        "from pyspark.sql import functions as sf\n",
        "import pyspark\n",
        "\n",
        "from pyspark.sql.window import Window\n",
        "from pyspark.sql.functions import col\n",
        "from pyspark.sql.functions import row_number, lag\n",
        "from pyspark.sql.functions import to_date, to_timestamp, datediff\n",
        "from pyspark.sql.functions import udf\n",
        "\n",
        "from pyspark.sql.types import IntegerType, BooleanType"
      ]
    },
    {
      "cell_type": "code",
      "source": [
        "import emoji\n",
        "\n",
        "from catboost import CatBoostRegressor\n",
        "from sklearn.model_selection import train_test_split\n",
        "from sklearn.metrics import mean_absolute_percentage_error, mean_absolute_error, mean_squared_error"
      ],
      "metadata": {
        "id": "sFoAXqgzHjlo"
      },
      "execution_count": 4,
      "outputs": []
    },
    {
      "cell_type": "code",
      "execution_count": 5,
      "metadata": {
        "id": "nNkD9wWLkyMb"
      },
      "outputs": [],
      "source": [
        "sparkConf = pyspark.SparkConf() \\\n",
        "    .set(\"spark.executor.memory\", \"512m\") \\\n",
        "    .set(\"spark.driver.memory\", \"512m\")\n",
        "ss = pyspark.sql.SparkSession.builder.config(conf=sparkConf).master('local[1]').getOrCreate()"
      ]
    },
    {
      "cell_type": "markdown",
      "metadata": {
        "id": "GO-jyIkAkyMb"
      },
      "source": [
        "# load data"
      ]
    },
    {
      "cell_type": "code",
      "source": [
        "!ls"
      ],
      "metadata": {
        "colab": {
          "base_uri": "https://localhost:8080/"
        },
        "id": "5wnOTFTHoIRd",
        "outputId": "711f23f2-aff9-4298-e513-ba66fcb72712"
      },
      "execution_count": 6,
      "outputs": [
        {
          "output_type": "stream",
          "name": "stdout",
          "text": [
            "channels_orc  hw_data.zip  posts_test.orc  posts_train.orc  sample_data\n"
          ]
        }
      ]
    },
    {
      "cell_type": "code",
      "execution_count": 7,
      "metadata": {
        "id": "pOs4gbVkkyMc"
      },
      "outputs": [],
      "source": [
        "data_path = './hw_data/'\n",
        "data_path = './'\n",
        "\n",
        "train_data = ss.read.orc(f'{data_path}posts_train.orc')\n",
        "test_data = ss.read.orc(f'{data_path}posts_test.orc')\n",
        "channel_data = ss.read.orc(f'{data_path}channels_orc')"
      ]
    },
    {
      "cell_type": "markdown",
      "source": [
        "# explore data"
      ],
      "metadata": {
        "id": "qcD2qtwqyp7J"
      }
    },
    {
      "cell_type": "code",
      "source": [
        "train_data.limit(5).show()"
      ],
      "metadata": {
        "colab": {
          "base_uri": "https://localhost:8080/"
        },
        "id": "ncn7EvT4yrJ0",
        "outputId": "42400675-3cbb-4884-c8b2-3321e0a6170b"
      },
      "execution_count": 8,
      "outputs": [
        {
          "output_type": "stream",
          "name": "stdout",
          "text": [
            "+----------+--------+-----+--------------------+-----+---------+------------+--------------------+------------+\n",
            "|channel_id|      id|tg_id|                text|views|has_image|is_forwarded|                date|forwarded_id|\n",
            "+----------+--------+-----+--------------------+-----+---------+------------+--------------------+------------+\n",
            "|       221|29741094| 7182|МК, а это вот про...|15368|        f|           f|2018-11-03 13:05:...|        null|\n",
            "|       221|46751120| 7388|Хочу пошутить, чт...|12448|        f|           f|2018-11-26 16:15:...|        null|\n",
            "|       221|32631368| 5512|Уточню: Котляр бы...|69984|        f|           f|2018-05-16 16:03:...|        null|\n",
            "|       221|46751758| 7173|Да не на два лаге...|10241|        f|           f|2018-11-02 13:45:...|        null|\n",
            "|       221|33073441| 3185|А что касается Уд...|46847|        f|           f|2017-08-10 13:44:...|        null|\n",
            "+----------+--------+-----+--------------------+-----+---------+------------+--------------------+------------+\n",
            "\n"
          ]
        }
      ]
    },
    {
      "cell_type": "code",
      "source": [
        "channel_data.limit(5).show()"
      ],
      "metadata": {
        "colab": {
          "base_uri": "https://localhost:8080/"
        },
        "id": "so47VjOnysdp",
        "outputId": "7b42bfb2-9587-4f57-fe59-7113cb3067d4"
      },
      "execution_count": 9,
      "outputs": [
        {
          "output_type": "stream",
          "name": "stdout",
          "text": [
            "+--------------------+----------+--------------------+----------------+----------+----------+--------------------+--------------------+----------+----------+\n",
            "|         description|is_private|         last_parsed|            name|post_count|     tg_id|               title|             updated|user_count|channel_id|\n",
            "+--------------------+----------+--------------------+----------------+----------+----------+--------------------+--------------------+----------+----------+\n",
            "|                    |     false|2019-01-26 16:53:...|   MoeinZchannel|     708.0|1002972402|             Moein Z|2019-01-26 16:53:...|   62411.0|      7910|\n",
            "|Вокруг столько ме...|     false|2019-02-12 00:39:...|  merzotachannel|    1027.0|1336284461|            Мерзость|2019-02-12 00:39:...|   12982.0|     14121|\n",
            "|🗣እኛስ የተሰቀለውን ክርስ...|     false|2019-02-10 06:57:...|christian_mezmur|    1168.0|1136987361|Christian Mezmur ...|2019-02-10 06:57:...|   21704.0|     17375|\n",
            "|     Chiroyli_qomatt|     false|2018-12-08 00:54:...|chiroyli_ayollar|     775.0|1363004116|    Ideal qomat siri|2018-12-08 00:54:...|    6516.0|     49797|\n",
            "|                    |     false|2019-02-10 14:31:...|   abhijitrathod|    1468.0|1090317766|Parivartan by Abh...|2019-02-10 14:31:...|   18995.0|     33685|\n",
            "+--------------------+----------+--------------------+----------------+----------+----------+--------------------+--------------------+----------+----------+\n",
            "\n"
          ]
        }
      ]
    },
    {
      "cell_type": "code",
      "source": [
        "train_data = train_data.withColumn('date', to_timestamp(train_data.date))\n",
        "test_data = test_data.withColumn('date', to_timestamp(test_data.date))"
      ],
      "metadata": {
        "id": "l70cx_rg1q5F"
      },
      "execution_count": 10,
      "outputs": []
    },
    {
      "cell_type": "code",
      "source": [
        "assert train_data.join(channel_data, 'channel_id').count() == train_data.count()\n",
        "assert test_data.join(channel_data, 'channel_id').count() == test_data.count()"
      ],
      "metadata": {
        "id": "2ypUH-HqzLWi"
      },
      "execution_count": 11,
      "outputs": []
    },
    {
      "cell_type": "markdown",
      "source": [
        "# make features\n",
        "\n",
        "The final list of features is as follows:\n",
        "\n",
        "| № | Description                              | Category                      |\n",
        "|---|------------------------------------------|-------------------------------|\n",
        "| 1 | Sequential number of a post in a channel | Window function: `row_number` |\n",
        "| 2 | Days since the previous post             | Window function: `lag`        |\n",
        "| 3 | Number of subscribers in channel         | Uses channels' metadata       |\n",
        "| 4 | Number of emojis in a post               | Uses text field               |"
      ],
      "metadata": {
        "id": "xI7b8Cr6qQkF"
      }
    },
    {
      "cell_type": "code",
      "source": [
        "train_data_sample = train_data.limit(1000)"
      ],
      "metadata": {
        "id": "gJcr28rUqRba"
      },
      "execution_count": 12,
      "outputs": []
    },
    {
      "cell_type": "markdown",
      "metadata": {
        "id": "M0ynxWdckyMc"
      },
      "source": [
        "## Feature 1\n",
        "Sequential number of a post in a channel"
      ]
    },
    {
      "cell_type": "code",
      "source": [
        "channel_window  = Window.partitionBy(\"channel_id\").orderBy(\"date\")\n",
        "\n",
        "# example of the feature on a subsample of data\n",
        "train_data_sample.withColumn(\"post_num\", row_number().over(channel_window)) \\\n",
        ".limit(5).show()"
      ],
      "metadata": {
        "colab": {
          "base_uri": "https://localhost:8080/"
        },
        "id": "3qjcfoti0mp4",
        "outputId": "94853fd2-f7a7-41af-a73f-7923d8820664"
      },
      "execution_count": 13,
      "outputs": [
        {
          "output_type": "stream",
          "name": "stdout",
          "text": [
            "+----------+--------+-----+--------------------+-----+---------+------------+-------------------+------------+--------+\n",
            "|channel_id|      id|tg_id|                text|views|has_image|is_forwarded|               date|forwarded_id|post_num|\n",
            "+----------+--------+-----+--------------------+-----+---------+------------+-------------------+------------+--------+\n",
            "|       221|40129279|  388|Роль нашего скром...| 2096|        f|           f|2016-11-15 15:29:45|        null|       1|\n",
            "|       221|40129165|  558|Дима, а у меня во...| 2103|        f|           f|2016-12-31 08:50:19|        null|       2|\n",
            "|       221|  583250|  603|В докладе, опубли...| 3241|        f|           f|2017-01-11 19:25:58|        null|       3|\n",
            "|       221|  583170|  637|Про Методичку и ч...| 3590|        f|           f|2017-01-14 14:44:14|        null|       4|\n",
            "|       221|  583088|  656|К вопросу о ювена...| 2585|        f|           f|2017-01-16 13:53:25|        null|       5|\n",
            "+----------+--------+-----+--------------------+-----+---------+------------+-------------------+------------+--------+\n",
            "\n"
          ]
        }
      ]
    },
    {
      "cell_type": "markdown",
      "source": [
        "## Feature 2\n",
        "\n",
        "Days since the previous post"
      ],
      "metadata": {
        "id": "xaLWjAeM3zvz"
      }
    },
    {
      "cell_type": "code",
      "source": [
        "channel_window  = Window.partitionBy(\"channel_id\").orderBy(\"date\")\n",
        "\n",
        "# example of the feature on a subsample of data\n",
        "train_data_sample.withColumn(\"previous_post_date\", lag(\"date\", 1).over(channel_window)) \\\n",
        "          .withColumn('days_since_prev', datediff(col('date'), col('previous_post_date'))) \\\n",
        "          .fillna(value=0, subset=['days_since_prev']) \\\n",
        ".limit(5).show()"
      ],
      "metadata": {
        "id": "cj85vlxp2xrD",
        "colab": {
          "base_uri": "https://localhost:8080/"
        },
        "outputId": "b83b0f6b-871a-4684-8a6f-90289e070c55"
      },
      "execution_count": 14,
      "outputs": [
        {
          "output_type": "stream",
          "name": "stdout",
          "text": [
            "+----------+--------+-----+--------------------+-----+---------+------------+-------------------+------------+-------------------+---------------+\n",
            "|channel_id|      id|tg_id|                text|views|has_image|is_forwarded|               date|forwarded_id| previous_post_date|days_since_prev|\n",
            "+----------+--------+-----+--------------------+-----+---------+------------+-------------------+------------+-------------------+---------------+\n",
            "|       221|40129279|  388|Роль нашего скром...| 2096|        f|           f|2016-11-15 15:29:45|        null|               null|              0|\n",
            "|       221|40129165|  558|Дима, а у меня во...| 2103|        f|           f|2016-12-31 08:50:19|        null|2016-11-15 15:29:45|             46|\n",
            "|       221|  583250|  603|В докладе, опубли...| 3241|        f|           f|2017-01-11 19:25:58|        null|2016-12-31 08:50:19|             11|\n",
            "|       221|  583170|  637|Про Методичку и ч...| 3590|        f|           f|2017-01-14 14:44:14|        null|2017-01-11 19:25:58|              3|\n",
            "|       221|  583088|  656|К вопросу о ювена...| 2585|        f|           f|2017-01-16 13:53:25|        null|2017-01-14 14:44:14|              2|\n",
            "+----------+--------+-----+--------------------+-----+---------+------------+-------------------+------------+-------------------+---------------+\n",
            "\n"
          ]
        }
      ]
    },
    {
      "cell_type": "markdown",
      "source": [
        "## Feature 3\n",
        "\n",
        "Number of subscribers in channel"
      ],
      "metadata": {
        "id": "Cj9uEvo--t38"
      }
    },
    {
      "cell_type": "code",
      "source": [
        "# example of the feature on a subsample of data\n",
        "train_data_sample.join(channel_data, 'channel_id').select(train_data[\"*\"], channel_data[\"user_count\"]) \\\n",
        ".limit(5).show()"
      ],
      "metadata": {
        "colab": {
          "base_uri": "https://localhost:8080/"
        },
        "id": "wFseNvzi_Ykf",
        "outputId": "4273f9be-cbc1-4c03-a21f-25164924e871"
      },
      "execution_count": 15,
      "outputs": [
        {
          "output_type": "stream",
          "name": "stdout",
          "text": [
            "+----------+--------+-----+--------------------+-----+---------+------------+-------------------+------------+----------+\n",
            "|channel_id|      id|tg_id|                text|views|has_image|is_forwarded|               date|forwarded_id|user_count|\n",
            "+----------+--------+-----+--------------------+-----+---------+------------+-------------------+------------+----------+\n",
            "|       221|29741094| 7182|МК, а это вот про...|15368|        f|           f|2018-11-03 13:05:21|        null|    8732.0|\n",
            "|       221|46751120| 7388|Хочу пошутить, чт...|12448|        f|           f|2018-11-26 16:15:00|        null|    8732.0|\n",
            "|       221|32631368| 5512|Уточню: Котляр бы...|69984|        f|           f|2018-05-16 16:03:52|        null|    8732.0|\n",
            "|       221|46751758| 7173|Да не на два лаге...|10241|        f|           f|2018-11-02 13:45:38|        null|    8732.0|\n",
            "|       221|33073441| 3185|А что касается Уд...|46847|        f|           f|2017-08-10 13:44:56|        null|    8732.0|\n",
            "+----------+--------+-----+--------------------+-----+---------+------------+-------------------+------------+----------+\n",
            "\n"
          ]
        }
      ]
    },
    {
      "cell_type": "markdown",
      "source": [
        "## Feature 4\n",
        "\n",
        "Number of emojis in a post"
      ],
      "metadata": {
        "id": "zUw8u-fH_ZQ8"
      }
    },
    {
      "cell_type": "code",
      "source": [
        "emoji_counter = udf(lambda x: emoji.emoji_count(x), IntegerType())\n",
        "\n",
        "# example of the feature on a subsample of data\n",
        "train_data_sample.fillna(value='', subset=['text']) \\\n",
        ".withColumn(\"emojis\", emoji_counter(col(\"text\"))) \\\n",
        ".limit(5).show()"
      ],
      "metadata": {
        "id": "zGjmSzwW2Rda",
        "colab": {
          "base_uri": "https://localhost:8080/"
        },
        "outputId": "be199791-3b37-47d7-e835-ce8bb0ef8fc3"
      },
      "execution_count": 16,
      "outputs": [
        {
          "output_type": "stream",
          "name": "stdout",
          "text": [
            "+----------+--------+-----+--------------------+-----+---------+------------+-------------------+------------+------+\n",
            "|channel_id|      id|tg_id|                text|views|has_image|is_forwarded|               date|forwarded_id|emojis|\n",
            "+----------+--------+-----+--------------------+-----+---------+------------+-------------------+------------+------+\n",
            "|       221|29741094| 7182|МК, а это вот про...|15368|        f|           f|2018-11-03 13:05:21|        null|     0|\n",
            "|       221|46751120| 7388|Хочу пошутить, чт...|12448|        f|           f|2018-11-26 16:15:00|        null|     0|\n",
            "|       221|32631368| 5512|Уточню: Котляр бы...|69984|        f|           f|2018-05-16 16:03:52|        null|     0|\n",
            "|       221|46751758| 7173|Да не на два лаге...|10241|        f|           f|2018-11-02 13:45:38|        null|     0|\n",
            "|       221|33073441| 3185|А что касается Уд...|46847|        f|           f|2017-08-10 13:44:56|        null|     0|\n",
            "+----------+--------+-----+--------------------+-----+---------+------------+-------------------+------------+------+\n",
            "\n"
          ]
        }
      ]
    },
    {
      "cell_type": "markdown",
      "source": [
        "## Additional features\n",
        "\n",
        "These features should not be graded and are only used for views prediction."
      ],
      "metadata": {
        "id": "s2nC1THSnyuZ"
      }
    },
    {
      "cell_type": "code",
      "source": [
        "strlen = udf(lambda x: len(x), IntegerType())\n",
        "\n",
        "# example of the feature on a subsample of data\n",
        "train_data_sample.withColumn(\"post_length\", strlen(col(\"text\"))) \\\n",
        ".fillna(value=0, subset=['post_length']) \\\n",
        ".limit(5).show()"
      ],
      "metadata": {
        "colab": {
          "base_uri": "https://localhost:8080/"
        },
        "id": "PMv-56zan0tC",
        "outputId": "ed9842d3-5329-408d-aabb-d7a9d754ed72"
      },
      "execution_count": 17,
      "outputs": [
        {
          "output_type": "stream",
          "name": "stdout",
          "text": [
            "+----------+--------+-----+--------------------+-----+---------+------------+-------------------+------------+-----------+\n",
            "|channel_id|      id|tg_id|                text|views|has_image|is_forwarded|               date|forwarded_id|post_length|\n",
            "+----------+--------+-----+--------------------+-----+---------+------------+-------------------+------------+-----------+\n",
            "|       221|29741094| 7182|МК, а это вот про...|15368|        f|           f|2018-11-03 13:05:21|        null|         60|\n",
            "|       221|46751120| 7388|Хочу пошутить, чт...|12448|        f|           f|2018-11-26 16:15:00|        null|        193|\n",
            "|       221|32631368| 5512|Уточню: Котляр бы...|69984|        f|           f|2018-05-16 16:03:52|        null|        207|\n",
            "|       221|46751758| 7173|Да не на два лаге...|10241|        f|           f|2018-11-02 13:45:38|        null|        144|\n",
            "|       221|33073441| 3185|А что касается Уд...|46847|        f|           f|2017-08-10 13:44:56|        null|        230|\n",
            "+----------+--------+-----+--------------------+-----+---------+------------+-------------------+------------+-----------+\n",
            "\n"
          ]
        }
      ]
    },
    {
      "cell_type": "markdown",
      "source": [
        "## Feature generation\n",
        "\n",
        "Let's wrap all new features into `make_features` helper function:"
      ],
      "metadata": {
        "id": "oIZj1Xl4rKNQ"
      }
    },
    {
      "cell_type": "code",
      "execution_count": 18,
      "metadata": {
        "id": "9sBiDTiekyMd"
      },
      "outputs": [],
      "source": [
        "def make_feature_1(df):\n",
        "  channel_window  = Window.partitionBy(\"channel_id\").orderBy(\"date\")\n",
        "  return df.withColumn(\"post_num\", row_number().over(channel_window))\n",
        "\n",
        "def make_feature_2(df):\n",
        "  channel_window  = Window.partitionBy(\"channel_id\").orderBy(\"date\")\n",
        "\n",
        "  return df.withColumn(\"previous_post_date\", lag(\"date\", 1).over(channel_window)) \\\n",
        "            .withColumn('days_since_prev', datediff(col('date'), col('previous_post_date'))) \\\n",
        "            .fillna(value=0, subset=['days_since_prev']) \\\n",
        "\n",
        "def make_feature_3(df):\n",
        "  return df.join(channel_data, 'channel_id').select(df[\"*\"], channel_data[\"user_count\"])\n",
        "\n",
        "def make_feature_4(df):\n",
        "  emoji_counter = udf(lambda x: emoji.emoji_count(x), IntegerType())\n",
        "\n",
        "  return df.fillna(value='', subset=['text']) \\\n",
        "  .withColumn(\"emojis\", emoji_counter(col(\"text\")))\n",
        "\n",
        "def make_additional_features(df):\n",
        "  strlen = udf(lambda x: len(x), IntegerType())\n",
        "  \n",
        "  return df.withColumn(\"post_length\", strlen(col(\"text\"))) \\\n",
        "  .fillna(value=0, subset=['post_length'])\n",
        "\n",
        "def make_features(df):\n",
        "\n",
        "    cols = ['has_image', 'is_forwarded', 'post_num', 'days_since_prev', 'user_count', 'emojis', 'post_length']\n",
        "    cols += ['id']\n",
        "\n",
        "    out_df = make_feature_1(df)\n",
        "    out_df = make_feature_2(out_df)\n",
        "    out_df = make_feature_3(out_df)\n",
        "    out_df = make_feature_4(out_df)\n",
        "    out_df = make_additional_features(out_df)\n",
        "\n",
        "    if 'views' in out_df.columns:\n",
        "        cols.append('views')\n",
        "    return out_df.select(*cols)"
      ]
    },
    {
      "cell_type": "code",
      "execution_count": 19,
      "metadata": {
        "id": "MWa3EZzrkyMd"
      },
      "outputs": [],
      "source": [
        "train_features = make_features(train_data).cache()\n",
        "test_features = make_features(test_data).cache()"
      ]
    },
    {
      "cell_type": "code",
      "execution_count": 20,
      "metadata": {
        "id": "09y-0lS2kyMd"
      },
      "outputs": [],
      "source": [
        "train_features.write.csv('train_csv', mode='overwrite', header=True)\n",
        "test_features.write.csv('test_csv', mode='overwrite', header=True)"
      ]
    },
    {
      "cell_type": "code",
      "source": [
        "train_features.limit(10).show()"
      ],
      "metadata": {
        "colab": {
          "base_uri": "https://localhost:8080/"
        },
        "id": "754M2N4Jpkwt",
        "outputId": "0513edc4-38a9-47fc-e500-b2cdc5b5d1db"
      },
      "execution_count": 21,
      "outputs": [
        {
          "output_type": "stream",
          "name": "stdout",
          "text": [
            "+---------+------------+--------+---------------+----------+------+-----------+--------+-----+\n",
            "|has_image|is_forwarded|post_num|days_since_prev|user_count|emojis|post_length|      id|views|\n",
            "+---------+------------+--------+---------------+----------+------+-----------+--------+-----+\n",
            "|        t|           f|       1|              0|    4868.0|     0|          0|39957267| 1217|\n",
            "|        t|           f|       2|              1|    4868.0|     0|          0|39957266| 1143|\n",
            "|        t|           f|       3|              0|    4868.0|     0|          0|39957265| 1127|\n",
            "|        t|           f|       4|              1|    4868.0|     0|          0|39957264| 1135|\n",
            "|        f|           f|       5|              0|    4868.0|     0|          0|39957263| 1286|\n",
            "|        t|           f|       6|              1|    4868.0|     0|          0|39957262| 1264|\n",
            "|        t|           f|       7|              2|    4868.0|     0|          0|39957261| 1230|\n",
            "|        f|           f|       8|              0|    4868.0|     0|          0|39957260| 1521|\n",
            "|        t|           f|       9|              1|    4868.0|     0|          0|39957259| 1271|\n",
            "|        t|           f|      10|              1|    4868.0|     0|          0|39957258| 1375|\n",
            "+---------+------------+--------+---------------+----------+------+-----------+--------+-----+\n",
            "\n"
          ]
        }
      ]
    },
    {
      "cell_type": "markdown",
      "metadata": {
        "id": "zrRWvJZckyMe"
      },
      "source": [
        "# load features to pandas\n",
        "you also can use .toPandas()"
      ]
    },
    {
      "cell_type": "code",
      "execution_count": 22,
      "metadata": {
        "id": "wiXduaBAkyMe"
      },
      "outputs": [],
      "source": [
        "import subprocess\n",
        "import glob\n",
        "import os\n",
        "import shutil\n",
        "import pandas as pd\n",
        "\n",
        "# load_and_merge_csv\n",
        "def load_and_merge_csv_from_hdfs(path, **kwargs):\n",
        "    dfs = []\n",
        "    for g in glob.glob(os.path.join(path, '*.csv')):\n",
        "        dfs.append(pd.read_csv(g, **kwargs))\n",
        "    res = pd.concat(dfs)\n",
        "    res = res.set_index('id')\n",
        "\n",
        "    res['has_image'] = res['has_image'].apply(lambda x: x=='t')\n",
        "    res['is_forwarded'] = res['is_forwarded'].apply(lambda x: x=='t')\n",
        "    return res"
      ]
    },
    {
      "cell_type": "code",
      "execution_count": 23,
      "metadata": {
        "id": "XF6qAtGYkyMf"
      },
      "outputs": [],
      "source": [
        "trainXY = load_and_merge_csv_from_hdfs('train_csv')\n",
        "testX = load_and_merge_csv_from_hdfs('test_csv')"
      ]
    },
    {
      "cell_type": "code",
      "execution_count": 24,
      "metadata": {
        "id": "RsAooEv3kyMf"
      },
      "outputs": [],
      "source": [
        "import numpy as np\n",
        "\n",
        "Ycol = 'views'\n",
        "to_drop = []\n",
        "trainX, trainY = trainXY.drop(Ycol, axis=1).drop(to_drop, axis=1), trainXY[Ycol]\n",
        "trainY = np.log(trainY + 100)\n",
        "\n",
        "testX = testX.drop(to_drop, axis=1)"
      ]
    },
    {
      "cell_type": "markdown",
      "metadata": {
        "id": "NyrBmUFHkyMg"
      },
      "source": [
        "# train your model and predict test\n",
        "\n",
        "I will use catboost to predict the number of views in a post.\n",
        "\n",
        "First, let's check model's performance using train-test split."
      ]
    },
    {
      "cell_type": "code",
      "execution_count": 25,
      "metadata": {
        "colab": {
          "base_uri": "https://localhost:8080/"
        },
        "id": "UGyBZb7bkyMg",
        "outputId": "8eaa68c1-6fd4-4673-9077-3be639cfe311"
      },
      "outputs": [
        {
          "output_type": "stream",
          "name": "stdout",
          "text": [
            "0:\tlearn: 1.3326665\ttotal: 548ms\tremaining: 10.4s\n",
            "1:\tlearn: 1.3094981\ttotal: 927ms\tremaining: 8.34s\n",
            "2:\tlearn: 1.2926029\ttotal: 1.42s\tremaining: 8.03s\n",
            "3:\tlearn: 1.2849776\ttotal: 2.03s\tremaining: 8.13s\n",
            "4:\tlearn: 1.2783807\ttotal: 2.7s\tremaining: 8.1s\n",
            "5:\tlearn: 1.2750172\ttotal: 3.38s\tremaining: 7.89s\n",
            "6:\tlearn: 1.2721577\ttotal: 4.05s\tremaining: 7.53s\n",
            "7:\tlearn: 1.2700326\ttotal: 4.74s\tremaining: 7.11s\n",
            "8:\tlearn: 1.2687277\ttotal: 5.39s\tremaining: 6.59s\n",
            "9:\tlearn: 1.2678183\ttotal: 6.04s\tremaining: 6.04s\n",
            "10:\tlearn: 1.2660261\ttotal: 6.73s\tremaining: 5.51s\n",
            "11:\tlearn: 1.2629707\ttotal: 7.38s\tremaining: 4.92s\n",
            "12:\tlearn: 1.2624346\ttotal: 8.01s\tremaining: 4.31s\n",
            "13:\tlearn: 1.2614369\ttotal: 8.39s\tremaining: 3.6s\n",
            "14:\tlearn: 1.2605656\ttotal: 8.74s\tremaining: 2.91s\n",
            "15:\tlearn: 1.2599384\ttotal: 9.12s\tremaining: 2.28s\n",
            "16:\tlearn: 1.2594745\ttotal: 9.49s\tremaining: 1.68s\n",
            "17:\tlearn: 1.2583758\ttotal: 9.86s\tremaining: 1.09s\n",
            "18:\tlearn: 1.2574079\ttotal: 10.2s\tremaining: 539ms\n",
            "19:\tlearn: 1.2564662\ttotal: 10.6s\tremaining: 0us\n"
          ]
        }
      ],
      "source": [
        "X_train, X_test, y_train, y_test = train_test_split(trainX, trainY, test_size=0.1, random_state=12)\n",
        "\n",
        "model = CatBoostRegressor(iterations=20,\n",
        "                          learning_rate=1,\n",
        "                          depth=2)\n",
        "# Fit model\n",
        "model.fit(X_train, y_train)\n",
        "# Get predictions\n",
        "preds = model.predict(X_test)"
      ]
    },
    {
      "cell_type": "code",
      "source": [
        "def eval_errors(true, pred):\n",
        "  errors = [\n",
        "      mean_absolute_percentage_error(true, pred),\n",
        "      mean_absolute_error(true, pred),\n",
        "      mean_squared_error(true, pred),\n",
        "      np.sqrt(mean_squared_error(true, pred))\n",
        "\n",
        "  ]\n",
        "  baseline = [15.707128974856676, 1.219070382113261, 2.4324378881170055, 1.5596274837655963]\n",
        "  names = ['MAPE', 'MAE', 'MSE', 'RMSE']\n",
        "\n",
        "  out = pd.DataFrame({'metric': names, 'baseline': baseline, 'value': errors})\n",
        "  out['ok?'] = out['baseline'] > out['value']\n",
        "\n",
        "  return out\n",
        "\n",
        "\n",
        "eval_errors(y_test, preds)"
      ],
      "metadata": {
        "id": "d1ujYZQ9C2sX",
        "colab": {
          "base_uri": "https://localhost:8080/",
          "height": 175
        },
        "outputId": "6f0cffa8-9a25-4710-a510-13b1bfa8eb04"
      },
      "execution_count": 26,
      "outputs": [
        {
          "output_type": "execute_result",
          "data": {
            "text/plain": [
              "  metric   baseline     value   ok?\n",
              "0   MAPE  15.707129  0.125627  True\n",
              "1    MAE   1.219070  0.931305  True\n",
              "2    MSE   2.432438  1.581049  True\n",
              "3   RMSE   1.559627  1.257398  True"
            ],
            "text/html": [
              "\n",
              "  <div id=\"df-3531c225-a93e-449a-ab63-1b1fa30b0181\">\n",
              "    <div class=\"colab-df-container\">\n",
              "      <div>\n",
              "<style scoped>\n",
              "    .dataframe tbody tr th:only-of-type {\n",
              "        vertical-align: middle;\n",
              "    }\n",
              "\n",
              "    .dataframe tbody tr th {\n",
              "        vertical-align: top;\n",
              "    }\n",
              "\n",
              "    .dataframe thead th {\n",
              "        text-align: right;\n",
              "    }\n",
              "</style>\n",
              "<table border=\"1\" class=\"dataframe\">\n",
              "  <thead>\n",
              "    <tr style=\"text-align: right;\">\n",
              "      <th></th>\n",
              "      <th>metric</th>\n",
              "      <th>baseline</th>\n",
              "      <th>value</th>\n",
              "      <th>ok?</th>\n",
              "    </tr>\n",
              "  </thead>\n",
              "  <tbody>\n",
              "    <tr>\n",
              "      <th>0</th>\n",
              "      <td>MAPE</td>\n",
              "      <td>15.707129</td>\n",
              "      <td>0.125627</td>\n",
              "      <td>True</td>\n",
              "    </tr>\n",
              "    <tr>\n",
              "      <th>1</th>\n",
              "      <td>MAE</td>\n",
              "      <td>1.219070</td>\n",
              "      <td>0.931305</td>\n",
              "      <td>True</td>\n",
              "    </tr>\n",
              "    <tr>\n",
              "      <th>2</th>\n",
              "      <td>MSE</td>\n",
              "      <td>2.432438</td>\n",
              "      <td>1.581049</td>\n",
              "      <td>True</td>\n",
              "    </tr>\n",
              "    <tr>\n",
              "      <th>3</th>\n",
              "      <td>RMSE</td>\n",
              "      <td>1.559627</td>\n",
              "      <td>1.257398</td>\n",
              "      <td>True</td>\n",
              "    </tr>\n",
              "  </tbody>\n",
              "</table>\n",
              "</div>\n",
              "      <button class=\"colab-df-convert\" onclick=\"convertToInteractive('df-3531c225-a93e-449a-ab63-1b1fa30b0181')\"\n",
              "              title=\"Convert this dataframe to an interactive table.\"\n",
              "              style=\"display:none;\">\n",
              "        \n",
              "  <svg xmlns=\"http://www.w3.org/2000/svg\" height=\"24px\"viewBox=\"0 0 24 24\"\n",
              "       width=\"24px\">\n",
              "    <path d=\"M0 0h24v24H0V0z\" fill=\"none\"/>\n",
              "    <path d=\"M18.56 5.44l.94 2.06.94-2.06 2.06-.94-2.06-.94-.94-2.06-.94 2.06-2.06.94zm-11 1L8.5 8.5l.94-2.06 2.06-.94-2.06-.94L8.5 2.5l-.94 2.06-2.06.94zm10 10l.94 2.06.94-2.06 2.06-.94-2.06-.94-.94-2.06-.94 2.06-2.06.94z\"/><path d=\"M17.41 7.96l-1.37-1.37c-.4-.4-.92-.59-1.43-.59-.52 0-1.04.2-1.43.59L10.3 9.45l-7.72 7.72c-.78.78-.78 2.05 0 2.83L4 21.41c.39.39.9.59 1.41.59.51 0 1.02-.2 1.41-.59l7.78-7.78 2.81-2.81c.8-.78.8-2.07 0-2.86zM5.41 20L4 18.59l7.72-7.72 1.47 1.35L5.41 20z\"/>\n",
              "  </svg>\n",
              "      </button>\n",
              "      \n",
              "  <style>\n",
              "    .colab-df-container {\n",
              "      display:flex;\n",
              "      flex-wrap:wrap;\n",
              "      gap: 12px;\n",
              "    }\n",
              "\n",
              "    .colab-df-convert {\n",
              "      background-color: #E8F0FE;\n",
              "      border: none;\n",
              "      border-radius: 50%;\n",
              "      cursor: pointer;\n",
              "      display: none;\n",
              "      fill: #1967D2;\n",
              "      height: 32px;\n",
              "      padding: 0 0 0 0;\n",
              "      width: 32px;\n",
              "    }\n",
              "\n",
              "    .colab-df-convert:hover {\n",
              "      background-color: #E2EBFA;\n",
              "      box-shadow: 0px 1px 2px rgba(60, 64, 67, 0.3), 0px 1px 3px 1px rgba(60, 64, 67, 0.15);\n",
              "      fill: #174EA6;\n",
              "    }\n",
              "\n",
              "    [theme=dark] .colab-df-convert {\n",
              "      background-color: #3B4455;\n",
              "      fill: #D2E3FC;\n",
              "    }\n",
              "\n",
              "    [theme=dark] .colab-df-convert:hover {\n",
              "      background-color: #434B5C;\n",
              "      box-shadow: 0px 1px 3px 1px rgba(0, 0, 0, 0.15);\n",
              "      filter: drop-shadow(0px 1px 2px rgba(0, 0, 0, 0.3));\n",
              "      fill: #FFFFFF;\n",
              "    }\n",
              "  </style>\n",
              "\n",
              "      <script>\n",
              "        const buttonEl =\n",
              "          document.querySelector('#df-3531c225-a93e-449a-ab63-1b1fa30b0181 button.colab-df-convert');\n",
              "        buttonEl.style.display =\n",
              "          google.colab.kernel.accessAllowed ? 'block' : 'none';\n",
              "\n",
              "        async function convertToInteractive(key) {\n",
              "          const element = document.querySelector('#df-3531c225-a93e-449a-ab63-1b1fa30b0181');\n",
              "          const dataTable =\n",
              "            await google.colab.kernel.invokeFunction('convertToInteractive',\n",
              "                                                     [key], {});\n",
              "          if (!dataTable) return;\n",
              "\n",
              "          const docLinkHtml = 'Like what you see? Visit the ' +\n",
              "            '<a target=\"_blank\" href=https://colab.research.google.com/notebooks/data_table.ipynb>data table notebook</a>'\n",
              "            + ' to learn more about interactive tables.';\n",
              "          element.innerHTML = '';\n",
              "          dataTable['output_type'] = 'display_data';\n",
              "          await google.colab.output.renderOutput(dataTable, element);\n",
              "          const docLink = document.createElement('div');\n",
              "          docLink.innerHTML = docLinkHtml;\n",
              "          element.appendChild(docLink);\n",
              "        }\n",
              "      </script>\n",
              "    </div>\n",
              "  </div>\n",
              "  "
            ]
          },
          "metadata": {},
          "execution_count": 26
        }
      ]
    },
    {
      "cell_type": "markdown",
      "source": [
        "It seems that the model is OK and it can be used for the submission."
      ],
      "metadata": {
        "id": "8CH82z2X0_Qq"
      }
    },
    {
      "cell_type": "code",
      "source": [
        "model = CatBoostRegressor(iterations=20,\n",
        "                          learning_rate=1,\n",
        "                          depth=2)\n",
        "# Fit model\n",
        "model.fit(trainX, trainY)\n",
        "# Get predictions\n",
        "prediction = model.predict(testX)"
      ],
      "metadata": {
        "colab": {
          "base_uri": "https://localhost:8080/"
        },
        "id": "y7amlHk0EI4a",
        "outputId": "7a52be14-452f-456b-86d2-7552fadd8613"
      },
      "execution_count": 27,
      "outputs": [
        {
          "output_type": "stream",
          "name": "stdout",
          "text": [
            "0:\tlearn: 1.3332240\ttotal: 853ms\tremaining: 16.2s\n",
            "1:\tlearn: 1.3109340\ttotal: 1.3s\tremaining: 11.7s\n",
            "2:\tlearn: 1.2940124\ttotal: 1.66s\tremaining: 9.43s\n",
            "3:\tlearn: 1.2862716\ttotal: 2.02s\tremaining: 8.1s\n",
            "4:\tlearn: 1.2791381\ttotal: 2.43s\tremaining: 7.28s\n",
            "5:\tlearn: 1.2756759\ttotal: 2.81s\tremaining: 6.55s\n",
            "6:\tlearn: 1.2728337\ttotal: 3.22s\tremaining: 5.97s\n",
            "7:\tlearn: 1.2714706\ttotal: 3.57s\tremaining: 5.36s\n",
            "8:\tlearn: 1.2703775\ttotal: 3.95s\tremaining: 4.82s\n",
            "9:\tlearn: 1.2689006\ttotal: 4.3s\tremaining: 4.3s\n",
            "10:\tlearn: 1.2677930\ttotal: 4.66s\tremaining: 3.81s\n",
            "11:\tlearn: 1.2669651\ttotal: 5.03s\tremaining: 3.35s\n",
            "12:\tlearn: 1.2659733\ttotal: 5.43s\tremaining: 2.92s\n",
            "13:\tlearn: 1.2651549\ttotal: 5.8s\tremaining: 2.49s\n",
            "14:\tlearn: 1.2637859\ttotal: 6.17s\tremaining: 2.06s\n",
            "15:\tlearn: 1.2628738\ttotal: 6.55s\tremaining: 1.64s\n",
            "16:\tlearn: 1.2622537\ttotal: 6.89s\tremaining: 1.22s\n",
            "17:\tlearn: 1.2617612\ttotal: 7.26s\tremaining: 807ms\n",
            "18:\tlearn: 1.2610219\ttotal: 7.61s\tremaining: 401ms\n",
            "19:\tlearn: 1.2594568\ttotal: 7.96s\tremaining: 0us\n"
          ]
        }
      ]
    },
    {
      "cell_type": "code",
      "execution_count": 28,
      "metadata": {
        "id": "FOKrGD1JkyMg"
      },
      "outputs": [],
      "source": [
        "assert prediction.shape == (244386,)"
      ]
    },
    {
      "cell_type": "markdown",
      "metadata": {
        "id": "C0vDMiddkyMg"
      },
      "source": [
        "# submit\n",
        "\n",
        "- login: `user45`\n",
        "- password: `10478742`"
      ]
    },
    {
      "cell_type": "code",
      "execution_count": 29,
      "metadata": {
        "colab": {
          "base_uri": "https://localhost:8080/"
        },
        "id": "d3FAeme6kyMg",
        "outputId": "99e1e56a-5084-4fb6-9175-91042877b939"
      },
      "outputs": [
        {
          "output_type": "stream",
          "name": "stdout",
          "text": [
            "  % Total    % Received % Xferd  Average Speed   Time    Time     Time  Current\n",
            "                                 Dload  Upload   Total   Spent    Left  Speed\n",
            "100  1907  100  1907    0     0   4314      0 --:--:-- --:--:-- --:--:--  4314\n"
          ]
        }
      ],
      "source": [
        "! curl -H 'Cache-Control: no-cache' https://raw.githubusercontent.com/mike0sv/lsml_submit_server/2023/src/client.py -o client.py"
      ]
    },
    {
      "cell_type": "code",
      "execution_count": 30,
      "metadata": {
        "id": "KaFdRYSPkyMh"
      },
      "outputs": [],
      "source": [
        "import client"
      ]
    },
    {
      "cell_type": "code",
      "execution_count": 32,
      "metadata": {
        "colab": {
          "base_uri": "https://localhost:8080/"
        },
        "id": "c1g1x47okyMh",
        "outputId": "411a2cbb-03f3-4072-d66a-48d5acd30704"
      },
      "outputs": [
        {
          "output_type": "execute_result",
          "data": {
            "text/plain": [
              "{'data': {'mape': 15.126409621416842,\n",
              "  'mean_absolute_error': 1.1660864585844264,\n",
              "  'mean_squared_error': 2.335223079482057,\n",
              "  'rmse': 1.5281436710866085,\n",
              "  'rmspe': 23.146845918598878},\n",
              " 'ok': True}"
            ]
          },
          "metadata": {},
          "execution_count": 32
        }
      ],
      "source": [
        "# submit = pd.DataFrame({'views': prediction}, index=testX.index)\n",
        "submit = pd.DataFrame({'views': prediction}, index=testX.index)\n",
        "\n",
        "client.make_eval(submit, final=True)"
      ]
    },
    {
      "cell_type": "code",
      "execution_count": 33,
      "metadata": {
        "colab": {
          "base_uri": "https://localhost:8080/"
        },
        "id": "CZ8EX4YmkyMh",
        "outputId": "d0e7e749-8592-48c0-a7fd-1761dbc66c68"
      },
      "outputs": [
        {
          "output_type": "execute_result",
          "data": {
            "text/plain": [
              "{'2023-06-05': [{'baseline_beaten': False,\n",
              "   'is_final': False,\n",
              "   'metrics': {'mape': 15.077921763867085,\n",
              "    'mean_absolute_error': 1.1509313693318939,\n",
              "    'mean_squared_error': 2.3502023823870664,\n",
              "    'rmse': 1.5330369801107429,\n",
              "    'rmspe': 23.68953215186946}},\n",
              "  {'baseline_beaten': True,\n",
              "   'is_final': False,\n",
              "   'metrics': {'mape': 14.991755949717588,\n",
              "    'mean_absolute_error': 1.152580072547508,\n",
              "    'mean_squared_error': 2.3072814461419027,\n",
              "    'rmse': 1.5189738135142101,\n",
              "    'rmspe': 23.1136310222326}}],\n",
              " '2023-06-11': [{'baseline_beaten': True,\n",
              "   'is_final': False,\n",
              "   'metrics': {'mape': 15.004556010027693,\n",
              "    'mean_absolute_error': 1.1528927280576837,\n",
              "    'mean_squared_error': 2.2956951708442572,\n",
              "    'rmse': 1.515155163949969,\n",
              "    'rmspe': 23.08565355313524}},\n",
              "  {'baseline_beaten': True,\n",
              "   'is_final': True,\n",
              "   'metrics': {'mape': 15.004556010027693,\n",
              "    'mean_absolute_error': 1.1528927280576837,\n",
              "    'mean_squared_error': 2.2956951708442572,\n",
              "    'rmse': 1.515155163949969,\n",
              "    'rmspe': 23.08565355313524}},\n",
              "  {'baseline_beaten': True,\n",
              "   'is_final': True,\n",
              "   'metrics': {'mape': 15.126409621416842,\n",
              "    'mean_absolute_error': 1.1660864585844264,\n",
              "    'mean_squared_error': 2.335223079482057,\n",
              "    'rmse': 1.5281436710866085,\n",
              "    'rmspe': 23.146845918598878}}]}"
            ]
          },
          "metadata": {},
          "execution_count": 33
        }
      ],
      "source": [
        "client.check_results()"
      ]
    }
  ],
  "metadata": {
    "kernelspec": {
      "display_name": "Python 3",
      "name": "python3"
    },
    "language_info": {
      "codemirror_mode": {
        "name": "ipython",
        "version": 3
      },
      "file_extension": ".py",
      "mimetype": "text/x-python",
      "name": "python",
      "nbconvert_exporter": "python",
      "pygments_lexer": "ipython3",
      "version": "3.6.7"
    },
    "colab": {
      "provenance": [],
      "gpuType": "T4",
      "toc_visible": true
    },
    "accelerator": "GPU"
  },
  "nbformat": 4,
  "nbformat_minor": 0
}