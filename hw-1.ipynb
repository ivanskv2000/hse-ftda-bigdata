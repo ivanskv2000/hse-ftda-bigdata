{
  "nbformat": 4,
  "nbformat_minor": 0,
  "metadata": {
    "colab": {
      "provenance": []
    },
    "kernelspec": {
      "name": "python3",
      "display_name": "Python 3"
    },
    "language_info": {
      "name": "python"
    }
  },
  "cells": [
    {
      "cell_type": "markdown",
      "source": [
        "# Домашнее задание № 1 (Apache Spark SQL)\n",
        "\n",
        "**Цель**: Решить 5 задач на SQL с использованием базовых таблиц.\n",
        "\n",
        "**Инструкции**:\n",
        "0. Прочитать условия ДЗ\n",
        "1. Выполнить задание на SQL;\n",
        "2. Ознакомиться с документацией по SQL: [Ссылка](https://spark.apache.org/docs/latest/sql-ref.html);\n",
        "3. Создать ноутбук с решениями задач (создайте копию на основе этого шаблона);\n",
        "4. Каждый запрос должен содержать обязательные комментарии с объяснением логического смысла решения;\n",
        "5. Скачать ноутбук в формате .ipynb и отправить на адрес электронной почты: ilya+hse@aniskovets.com.\n",
        "\n",
        "**Оценка и дедлайн**:\n",
        "- Максимальная оценка - 5 баллов;\n",
        "- Дедлайн: 24.05.2023 23:59;\n",
        "- Оценки будут опубликованы после сдачи **всех двух** домашних заданий.\n",
        "\n",
        "**Таблицы**:\n",
        "Для выполнения задания предполагается использование следующих таблиц, загруженных в систему в формате CSV с типами полей STRING:\n",
        "\n",
        "- title_basics_csv\n",
        "- title_principals_csv\n",
        "- title_crew_csv\n",
        "- title_episode_csv\n",
        "- title_ratings_csv\n",
        "- title_akas_csv\n",
        "- name_basics_csv\n",
        "\n",
        "**Преобразование типов**:\n",
        "Для преобразования STRING в другой тип используйте конструкцию: \n",
        "```sql\n",
        "CAST (column_name AS TYPE) AS column_name\n",
        "```\n",
        "\n",
        "**Пример**\n",
        "```sql\n",
        "CREATE TABLE test_table USING PARQUET AS \n",
        "  SELECT \n",
        "    CAST(averageRating AS decimal(2,1))  AS averageRating \n",
        "  FROM test_table_csv \n",
        "```\n",
        "\n",
        "**Все подготовительные этапы по преобразованию типов нужно делать в разделе Initialization. После чего, рекомендуется использовать в запросах таблицы в формате PARQUET**\n",
        "\n",
        "Перед этим не мешает проверить, что значения влезают в размерности этого типа\n",
        "Список типов SQL: https://spark.apache.org/docs/latest/sql-ref-datatypes.html \n",
        "\n",
        "Домашнее задание необходимо сделать в виде ноутбука. Ноутбук должен запускаться без ошибок.\n",
        "\n",
        "Во всех задачах ответом должно быть только ОДНО значение (число или строка).\n",
        "\n",
        "Неправильный ответ - 0 баллов за задачу.\n",
        "Правильный ответ на все тесты 1 балл за задачу, иначе пропорционально количеству пройденных тестов (количество тестов и какие именно заранее неизвестны).\n",
        "\n",
        "**ВНИМАНИЕ! К каждому запросу необходимо писать комментарии. Комментарии должны обьяснять логический смысл решения. Отсутствие комментария к решению задачи штраф - оценка за задачу = оценка / 2!**\n",
        "\n",
        "Всего 5 задач и 5 баллов\n",
        "\n",
        "**В режиме проверки SQL запросы будут запускаться с любыми параметрами, отличными от тех, что вы выбрали.**\n",
        "\n",
        "Скрипты не должны зависеть от выбранного вами параметра, а также от регистра строки. Все параметры должны быть изменяемыми (смотрите, пример в Вопросе № 0)\n",
        "\n",
        "**Тестирование будет проводится с любым значением параметров, в том числе с отсутвующим в датасете, запрос должен выводить правильный результат!**\n",
        "\n",
        "SQL запрос в ответе всегда должен быть один и параметризирован. Если необходимо пользуйтесь конструкцией WITH name AS () -  пример ниже\n",
        "\n",
        "После завершения работы нажимайте в меню File/Download/Download ipnb, скачивайте файл и присылайте почтой на ilya+hse@aniskovets.com\n",
        "\n",
        "Если заметили опечатки или появились вопросы пишите в телеграм: @aigmx\n",
        "\n"
      ],
      "metadata": {
        "id": "RC9u5jdnHx50"
      }
    },
    {
      "cell_type": "code",
      "source": [
        "!pip install pyspark===3.4.0"
      ],
      "metadata": {
        "colab": {
          "base_uri": "https://localhost:8080/"
        },
        "id": "aW6H3k8n0tYc",
        "outputId": "416d08f4-2f43-4bdd-9f40-11c810991a8b"
      },
      "execution_count": 1,
      "outputs": [
        {
          "output_type": "stream",
          "name": "stdout",
          "text": [
            "Looking in indexes: https://pypi.org/simple, https://us-python.pkg.dev/colab-wheels/public/simple/\n",
            "Requirement already satisfied: pyspark===3.4.0 in /usr/local/lib/python3.10/dist-packages (3.4.0)\n",
            "Requirement already satisfied: py4j==0.10.9.7 in /usr/local/lib/python3.10/dist-packages (from pyspark===3.4.0) (0.10.9.7)\n"
          ]
        }
      ]
    },
    {
      "cell_type": "code",
      "source": [
        "!curl -O https://mars.ru77.ru/data/title.basics.tsv.gz\n",
        "!curl -O https://mars.ru77.ru/data/title.crew.tsv.gz\n",
        "!curl -O https://mars.ru77.ru/data/title.episode.tsv.gz\n",
        "!curl -O https://mars.ru77.ru/data/title.principals.tsv.gz\n",
        "!curl -O https://mars.ru77.ru/data/title.ratings.tsv.gz\n",
        "!curl -O https://mars.ru77.ru/data/title.akas.tsv.gz\n",
        "!curl -O https://mars.ru77.ru/data/name.basics.tsv.gz"
      ],
      "metadata": {
        "id": "pp42uQGB3Nez",
        "colab": {
          "base_uri": "https://localhost:8080/"
        },
        "outputId": "771e7221-3a95-4b9e-e141-b04bb4b33701"
      },
      "execution_count": 2,
      "outputs": [
        {
          "output_type": "stream",
          "name": "stdout",
          "text": [
            "  % Total    % Received % Xferd  Average Speed   Time    Time     Time  Current\n",
            "                                 Dload  Upload   Total   Spent    Left  Speed\n",
            "100  132M  100  132M    0     0  5740k      0  0:00:23  0:00:23 --:--:-- 6982k\n",
            "  % Total    % Received % Xferd  Average Speed   Time    Time     Time  Current\n",
            "                                 Dload  Upload   Total   Spent    Left  Speed\n",
            "100 51.7M  100 51.7M    0     0  3988k      0  0:00:13  0:00:13 --:--:-- 7240k\n",
            "  % Total    % Received % Xferd  Average Speed   Time    Time     Time  Current\n",
            "                                 Dload  Upload   Total   Spent    Left  Speed\n",
            "100 29.6M  100 29.6M    0     0  2958k      0  0:00:10  0:00:10 --:--:-- 5881k\n",
            "  % Total    % Received % Xferd  Average Speed   Time    Time     Time  Current\n",
            "                                 Dload  Upload   Total   Spent    Left  Speed\n",
            "100  342M  100  342M    0     0  6529k      0  0:00:53  0:00:53 --:--:-- 7250k\n",
            "  % Total    % Received % Xferd  Average Speed   Time    Time     Time  Current\n",
            "                                 Dload  Upload   Total   Spent    Left  Speed\n",
            "100 5526k  100 5526k    0     0   882k      0  0:00:06  0:00:06 --:--:-- 1344k\n",
            "  % Total    % Received % Xferd  Average Speed   Time    Time     Time  Current\n",
            "                                 Dload  Upload   Total   Spent    Left  Speed\n",
            "100  214M  100  214M    0     0  6058k      0  0:00:36  0:00:36 --:--:-- 6976k\n",
            "  % Total    % Received % Xferd  Average Speed   Time    Time     Time  Current\n",
            "                                 Dload  Upload   Total   Spent    Left  Speed\n",
            "100  202M  100  202M    0     0  5966k      0  0:00:34  0:00:34 --:--:-- 7156k\n"
          ]
        }
      ]
    },
    {
      "cell_type": "code",
      "source": [
        "from pyspark.sql import SparkSession, SQLContext\n",
        "from pyspark import SparkConf, SparkContext\n",
        "\n",
        "\n",
        "spark = SparkSession.builder.master(\"local[2]\").config(\"spark.driver.memory\", \"8g\").appName(\"vse\").enableHiveSupport().getOrCreate()\n",
        "sql = spark.sql"
      ],
      "metadata": {
        "id": "ozFaxBjr3Lk8"
      },
      "execution_count": 3,
      "outputs": []
    },
    {
      "cell_type": "code",
      "source": [
        "title_basics_csv = spark.read.csv(\"title.basics.tsv.gz\", sep='\\\\t', nullValue='\\\\N', header=True, quote=\"\", escape=\"\")\n",
        "title_basics_csv.createOrReplaceTempView(\"title_basics_csv\")\n",
        "\n",
        "\n",
        "title_principals_csv = spark.read.csv(\"title.principals.tsv.gz\", sep='\\\\t', nullValue='\\\\N', header=True, quote=\"\", escape=\"\")\n",
        "title_principals_csv.createOrReplaceTempView(\"title_principals_csv\")\n",
        "\n",
        "\n",
        "title_crew_csv = spark.read.csv(\"title.crew.tsv.gz\", sep='\\\\t', nullValue='\\\\N', header=True, quote=\"\", escape=\"\")\n",
        "title_crew_csv.createOrReplaceTempView(\"title_crew_csv\")\n",
        "\n",
        "\n",
        "title_episode_csv = spark.read.csv(\"title.episode.tsv.gz\", sep='\\\\t', nullValue='\\\\N', header=True, quote=\"\", escape=\"\")\n",
        "title_episode_csv.createOrReplaceTempView(\"title_episode_csv\")\n",
        "\n",
        "\n",
        "title_ratings_csv = spark.read.csv(\"title.ratings.tsv.gz\", sep='\\\\t', nullValue='\\\\N', header=True, quote=\"\", escape=\"\")\n",
        "title_ratings_csv.createOrReplaceTempView(\"title_ratings_csv\")\n",
        "\n",
        "\n",
        "title_akas_csv = spark.read.csv(\"title.akas.tsv.gz\", sep='\\\\t', nullValue='\\\\N', header=True, quote=\"\", escape=\"\")\n",
        "title_akas_csv.createOrReplaceTempView(\"title_akas_csv\")\n",
        "\n",
        "\n",
        "name_basics_csv = spark.read.csv(\"name.basics.tsv.gz\", sep='\\\\t', nullValue='\\\\N', header=True, quote=\"\", escape=\"\")\n",
        "name_basics_csv.createOrReplaceTempView(\"name_basics_csv\")"
      ],
      "metadata": {
        "id": "X1fn6BV_3KRJ"
      },
      "execution_count": 4,
      "outputs": []
    },
    {
      "cell_type": "code",
      "source": [
        "# Initialization\n",
        "_ = sql(\"\"\"DROP TABLE IF EXISTS title_basics\"\"\").collect()\n",
        "q = \"\"\"\n",
        "    CREATE TABLE title_basics STORED AS PARQUET \n",
        "    SELECT tconst,\n",
        "           titleType,\n",
        "           primaryTitle,\n",
        "           originalTitle,\n",
        "           CAST (isAdult AS boolean) as isAdult,\n",
        "           CAST (startYear AS integer) as startYear,\n",
        "           CAST (endYear AS integer) as endYear,\n",
        "           CAST (runtimeMinutes AS integer) as runtimeMinutes,\n",
        "           SPLIT(genres, ',') as genres\n",
        "    FROM title_basics_csv\n",
        "    \"\"\"\n",
        "_ = sql(q).collect()\n",
        "\n",
        "_ = sql(\"\"\"DROP TABLE IF EXISTS title_principals\"\"\").collect()\n",
        "q = \"\"\"\n",
        "    CREATE TABLE title_principals STORED AS PARQUET \n",
        "    SELECT tconst,\n",
        "           CAST (ordering AS integer) as ordering,\n",
        "           nconst,\n",
        "           category,\n",
        "           job,\n",
        "           characters\n",
        "    FROM title_principals_csv\n",
        "    \"\"\"\n",
        "_ = sql(q).collect()\n",
        "\n",
        "_ = sql(\"\"\"DROP TABLE IF EXISTS title_crew\"\"\").collect()\n",
        "q = \"\"\"\n",
        "    CREATE TABLE title_crew STORED AS PARQUET \n",
        "    SELECT tconst,\n",
        "           SPLIT(directors, ',') as directors,\n",
        "           SPLIT(writers, ',') as writers\n",
        "    FROM title_crew_csv\n",
        "    \"\"\"\n",
        "_ = sql(q).collect()\n",
        "\n",
        "_ = sql(\"\"\"DROP TABLE IF EXISTS title_episode\"\"\").collect()\n",
        "q = \"\"\"\n",
        "    CREATE TABLE title_episode STORED AS PARQUET \n",
        "    SELECT tconst,\n",
        "           parentTconst,\n",
        "           CAST (seasonNumber AS integer) as seasonNumber,\n",
        "           CAST (episodeNumber AS integer) as episodeNumber\n",
        "    FROM title_episode_csv\n",
        "    \"\"\"\n",
        "_ = sql(q).collect()\n",
        "\n",
        "_ = sql(\"\"\"DROP TABLE IF EXISTS title_ratings\"\"\").collect()\n",
        "q = \"\"\"\n",
        "    CREATE TABLE title_ratings STORED AS PARQUET \n",
        "    SELECT tconst,\n",
        "           CAST (averageRating AS decimal(2,1)) as averageRating,\n",
        "           CAST (numVotes AS integer) as numVotes\n",
        "    FROM title_ratings_csv\n",
        "    \"\"\"\n",
        "_ = sql(q).collect()\n",
        "\n",
        "_ = sql(\"\"\"DROP TABLE IF EXISTS title_akas\"\"\").collect()\n",
        "q = \"\"\"\n",
        "    CREATE TABLE title_akas STORED AS PARQUET \n",
        "    SELECT titleId,\n",
        "           CAST (ordering AS integer) as ordering,\n",
        "           title,\n",
        "           region,\n",
        "           language,\n",
        "           types,\n",
        "           attributes,\n",
        "           CAST (isOriginalTitle AS boolean) as isOriginalTitle\n",
        "    FROM title_akas_csv\n",
        "    \"\"\"\n",
        "_ = sql(q).collect()\n",
        "\n",
        "_ = sql(\"\"\"DROP TABLE IF EXISTS name_basics\"\"\").collect()\n",
        "q = \"\"\"\n",
        "    CREATE TABLE name_basics STORED AS PARQUET \n",
        "    SELECT nconst,\n",
        "           primaryName,\n",
        "           CAST (birthYear AS integer) as birthYear,\n",
        "           CAST (deathYear AS integer) as deathYear,\n",
        "           SPLIT(primaryProfession, ',') as primaryProfession,\n",
        "           SPLIT(knownForTitles, ',') as knownForTitles\n",
        "    FROM name_basics_csv\n",
        "    \"\"\"\n",
        "_ = sql(q).collect()\n",
        "\n",
        "_ = sql(\"\"\"DROP TABLE IF EXISTS title_writers\"\"\").collect()\n",
        "q = \"\"\"\n",
        "    /*\n",
        "    Вспомогательная табличка. Разбивает содержимое массива writers\n",
        "    на отдельные строки, чтобы по-человечески работать с данными а не как плебеи.\n",
        "    Получается одна строка - это пара фильм-сценарист.\n",
        "    */\n",
        "\n",
        "    CREATE TABLE title_writers STORED AS PARQUET \n",
        "    SELECT tconst,\n",
        "           posexplode(writers) AS (ordering, nconst)\n",
        "    FROM title_crew\n",
        "    WHERE writers is not null\n",
        "    \"\"\"\n",
        "_ = sql(q).collect()\n",
        "\n",
        "_ = sql(\"\"\"DROP TABLE IF EXISTS title_genres\"\"\").collect()\n",
        "q = \"\"\"\n",
        "    /*\n",
        "    Вспомогательная табличка. Разбивает содержимое массива genres\n",
        "    на отдельные строки. Думаю, понятно зачем ))))\n",
        "    */\n",
        "\n",
        "    CREATE TABLE title_genres STORED AS PARQUET \n",
        "    SELECT tconst, ordering, lower(genre) as genre\n",
        "    FROM (\n",
        "      SELECT tconst,\n",
        "            posexplode(genres) AS (ordering, genre)\n",
        "      FROM title_basics\n",
        "      WHERE genres is not null\n",
        "    ) _\n",
        "    \"\"\"\n",
        "_ = sql(q).collect()"
      ],
      "metadata": {
        "id": "U1Oy8O6Fmjrn"
      },
      "execution_count": 5,
      "outputs": []
    },
    {
      "cell_type": "code",
      "source": [
        "sql(\"DESCRIBE FORMATTED title_basics\").show(50, truncate=False)\n",
        "sql(\"DESCRIBE FORMATTED title_principals\").show(50, truncate=False)\n",
        "sql(\"DESCRIBE FORMATTED title_crew\").show(50, truncate=False)\n",
        "sql(\"DESCRIBE FORMATTED title_episode\").show(50, truncate=False)\n",
        "sql(\"DESCRIBE FORMATTED title_ratings\").show(50, truncate=False)\n",
        "sql(\"DESCRIBE FORMATTED title_akas\").show(50, truncate=False)\n",
        "sql(\"DESCRIBE FORMATTED name_basics\").show(50, truncate=False)"
      ],
      "metadata": {
        "id": "lX4RUhILnx7m",
        "colab": {
          "base_uri": "https://localhost:8080/"
        },
        "outputId": "aae8ca04-44f1-459d-9567-dd00a6b9b98c"
      },
      "execution_count": 6,
      "outputs": [
        {
          "output_type": "stream",
          "name": "stdout",
          "text": [
            "+----------------------------+--------------------------------------------------------------+-------+\n",
            "|col_name                    |data_type                                                     |comment|\n",
            "+----------------------------+--------------------------------------------------------------+-------+\n",
            "|tconst                      |string                                                        |null   |\n",
            "|titleType                   |string                                                        |null   |\n",
            "|primaryTitle                |string                                                        |null   |\n",
            "|originalTitle               |string                                                        |null   |\n",
            "|isAdult                     |boolean                                                       |null   |\n",
            "|startYear                   |int                                                           |null   |\n",
            "|endYear                     |int                                                           |null   |\n",
            "|runtimeMinutes              |int                                                           |null   |\n",
            "|genres                      |array<string>                                                 |null   |\n",
            "|                            |                                                              |       |\n",
            "|# Detailed Table Information|                                                              |       |\n",
            "|Catalog                     |spark_catalog                                                 |       |\n",
            "|Database                    |default                                                       |       |\n",
            "|Table                       |title_basics                                                  |       |\n",
            "|Owner                       |root                                                          |       |\n",
            "|Created Time                |Wed May 24 18:08:31 UTC 2023                                  |       |\n",
            "|Last Access                 |UNKNOWN                                                       |       |\n",
            "|Created By                  |Spark 3.4.0                                                   |       |\n",
            "|Type                        |MANAGED                                                       |       |\n",
            "|Provider                    |hive                                                          |       |\n",
            "|Table Properties            |[transient_lastDdlTime=1684951711]                            |       |\n",
            "|Location                    |file:/content/spark-warehouse/title_basics                    |       |\n",
            "|Serde Library               |org.apache.hadoop.hive.ql.io.parquet.serde.ParquetHiveSerDe   |       |\n",
            "|InputFormat                 |org.apache.hadoop.hive.ql.io.parquet.MapredParquetInputFormat |       |\n",
            "|OutputFormat                |org.apache.hadoop.hive.ql.io.parquet.MapredParquetOutputFormat|       |\n",
            "|Storage Properties          |[serialization.format=1]                                      |       |\n",
            "|Partition Provider          |Catalog                                                       |       |\n",
            "+----------------------------+--------------------------------------------------------------+-------+\n",
            "\n",
            "+----------------------------+--------------------------------------------------------------+-------+\n",
            "|col_name                    |data_type                                                     |comment|\n",
            "+----------------------------+--------------------------------------------------------------+-------+\n",
            "|tconst                      |string                                                        |null   |\n",
            "|ordering                    |int                                                           |null   |\n",
            "|nconst                      |string                                                        |null   |\n",
            "|category                    |string                                                        |null   |\n",
            "|job                         |string                                                        |null   |\n",
            "|characters                  |string                                                        |null   |\n",
            "|                            |                                                              |       |\n",
            "|# Detailed Table Information|                                                              |       |\n",
            "|Catalog                     |spark_catalog                                                 |       |\n",
            "|Database                    |default                                                       |       |\n",
            "|Table                       |title_principals                                              |       |\n",
            "|Owner                       |root                                                          |       |\n",
            "|Created Time                |Wed May 24 18:09:39 UTC 2023                                  |       |\n",
            "|Last Access                 |UNKNOWN                                                       |       |\n",
            "|Created By                  |Spark 3.4.0                                                   |       |\n",
            "|Type                        |MANAGED                                                       |       |\n",
            "|Provider                    |hive                                                          |       |\n",
            "|Table Properties            |[transient_lastDdlTime=1684951779]                            |       |\n",
            "|Location                    |file:/content/spark-warehouse/title_principals                |       |\n",
            "|Serde Library               |org.apache.hadoop.hive.ql.io.parquet.serde.ParquetHiveSerDe   |       |\n",
            "|InputFormat                 |org.apache.hadoop.hive.ql.io.parquet.MapredParquetInputFormat |       |\n",
            "|OutputFormat                |org.apache.hadoop.hive.ql.io.parquet.MapredParquetOutputFormat|       |\n",
            "|Storage Properties          |[serialization.format=1]                                      |       |\n",
            "|Partition Provider          |Catalog                                                       |       |\n",
            "+----------------------------+--------------------------------------------------------------+-------+\n",
            "\n",
            "+----------------------------+--------------------------------------------------------------+-------+\n",
            "|col_name                    |data_type                                                     |comment|\n",
            "+----------------------------+--------------------------------------------------------------+-------+\n",
            "|tconst                      |string                                                        |null   |\n",
            "|directors                   |array<string>                                                 |null   |\n",
            "|writers                     |array<string>                                                 |null   |\n",
            "|                            |                                                              |       |\n",
            "|# Detailed Table Information|                                                              |       |\n",
            "|Catalog                     |spark_catalog                                                 |       |\n",
            "|Database                    |default                                                       |       |\n",
            "|Table                       |title_crew                                                    |       |\n",
            "|Owner                       |root                                                          |       |\n",
            "|Created Time                |Wed May 24 18:12:50 UTC 2023                                  |       |\n",
            "|Last Access                 |UNKNOWN                                                       |       |\n",
            "|Created By                  |Spark 3.4.0                                                   |       |\n",
            "|Type                        |MANAGED                                                       |       |\n",
            "|Provider                    |hive                                                          |       |\n",
            "|Table Properties            |[transient_lastDdlTime=1684951970]                            |       |\n",
            "|Location                    |file:/content/spark-warehouse/title_crew                      |       |\n",
            "|Serde Library               |org.apache.hadoop.hive.ql.io.parquet.serde.ParquetHiveSerDe   |       |\n",
            "|InputFormat                 |org.apache.hadoop.hive.ql.io.parquet.MapredParquetInputFormat |       |\n",
            "|OutputFormat                |org.apache.hadoop.hive.ql.io.parquet.MapredParquetOutputFormat|       |\n",
            "|Storage Properties          |[serialization.format=1]                                      |       |\n",
            "|Partition Provider          |Catalog                                                       |       |\n",
            "+----------------------------+--------------------------------------------------------------+-------+\n",
            "\n",
            "+----------------------------+--------------------------------------------------------------+-------+\n",
            "|col_name                    |data_type                                                     |comment|\n",
            "+----------------------------+--------------------------------------------------------------+-------+\n",
            "|tconst                      |string                                                        |null   |\n",
            "|parentTconst                |string                                                        |null   |\n",
            "|seasonNumber                |int                                                           |null   |\n",
            "|episodeNumber               |int                                                           |null   |\n",
            "|                            |                                                              |       |\n",
            "|# Detailed Table Information|                                                              |       |\n",
            "|Catalog                     |spark_catalog                                                 |       |\n",
            "|Database                    |default                                                       |       |\n",
            "|Table                       |title_episode                                                 |       |\n",
            "|Owner                       |root                                                          |       |\n",
            "|Created Time                |Wed May 24 18:13:26 UTC 2023                                  |       |\n",
            "|Last Access                 |UNKNOWN                                                       |       |\n",
            "|Created By                  |Spark 3.4.0                                                   |       |\n",
            "|Type                        |MANAGED                                                       |       |\n",
            "|Provider                    |hive                                                          |       |\n",
            "|Table Properties            |[transient_lastDdlTime=1684952006]                            |       |\n",
            "|Location                    |file:/content/spark-warehouse/title_episode                   |       |\n",
            "|Serde Library               |org.apache.hadoop.hive.ql.io.parquet.serde.ParquetHiveSerDe   |       |\n",
            "|InputFormat                 |org.apache.hadoop.hive.ql.io.parquet.MapredParquetInputFormat |       |\n",
            "|OutputFormat                |org.apache.hadoop.hive.ql.io.parquet.MapredParquetOutputFormat|       |\n",
            "|Storage Properties          |[serialization.format=1]                                      |       |\n",
            "|Partition Provider          |Catalog                                                       |       |\n",
            "+----------------------------+--------------------------------------------------------------+-------+\n",
            "\n",
            "+----------------------------+--------------------------------------------------------------+-------+\n",
            "|col_name                    |data_type                                                     |comment|\n",
            "+----------------------------+--------------------------------------------------------------+-------+\n",
            "|tconst                      |string                                                        |null   |\n",
            "|averageRating               |decimal(2,1)                                                  |null   |\n",
            "|numVotes                    |int                                                           |null   |\n",
            "|                            |                                                              |       |\n",
            "|# Detailed Table Information|                                                              |       |\n",
            "|Catalog                     |spark_catalog                                                 |       |\n",
            "|Database                    |default                                                       |       |\n",
            "|Table                       |title_ratings                                                 |       |\n",
            "|Owner                       |root                                                          |       |\n",
            "|Created Time                |Wed May 24 18:13:50 UTC 2023                                  |       |\n",
            "|Last Access                 |UNKNOWN                                                       |       |\n",
            "|Created By                  |Spark 3.4.0                                                   |       |\n",
            "|Type                        |MANAGED                                                       |       |\n",
            "|Provider                    |hive                                                          |       |\n",
            "|Table Properties            |[transient_lastDdlTime=1684952030]                            |       |\n",
            "|Location                    |file:/content/spark-warehouse/title_ratings                   |       |\n",
            "|Serde Library               |org.apache.hadoop.hive.ql.io.parquet.serde.ParquetHiveSerDe   |       |\n",
            "|InputFormat                 |org.apache.hadoop.hive.ql.io.parquet.MapredParquetInputFormat |       |\n",
            "|OutputFormat                |org.apache.hadoop.hive.ql.io.parquet.MapredParquetOutputFormat|       |\n",
            "|Storage Properties          |[serialization.format=1]                                      |       |\n",
            "|Partition Provider          |Catalog                                                       |       |\n",
            "+----------------------------+--------------------------------------------------------------+-------+\n",
            "\n",
            "+----------------------------+--------------------------------------------------------------+-------+\n",
            "|col_name                    |data_type                                                     |comment|\n",
            "+----------------------------+--------------------------------------------------------------+-------+\n",
            "|titleId                     |string                                                        |null   |\n",
            "|ordering                    |int                                                           |null   |\n",
            "|title                       |string                                                        |null   |\n",
            "|region                      |string                                                        |null   |\n",
            "|language                    |string                                                        |null   |\n",
            "|types                       |string                                                        |null   |\n",
            "|attributes                  |string                                                        |null   |\n",
            "|isOriginalTitle             |boolean                                                       |null   |\n",
            "|                            |                                                              |       |\n",
            "|# Detailed Table Information|                                                              |       |\n",
            "|Catalog                     |spark_catalog                                                 |       |\n",
            "|Database                    |default                                                       |       |\n",
            "|Table                       |title_akas                                                    |       |\n",
            "|Owner                       |root                                                          |       |\n",
            "|Created Time                |Wed May 24 18:13:55 UTC 2023                                  |       |\n",
            "|Last Access                 |UNKNOWN                                                       |       |\n",
            "|Created By                  |Spark 3.4.0                                                   |       |\n",
            "|Type                        |MANAGED                                                       |       |\n",
            "|Provider                    |hive                                                          |       |\n",
            "|Table Properties            |[transient_lastDdlTime=1684952035]                            |       |\n",
            "|Location                    |file:/content/spark-warehouse/title_akas                      |       |\n",
            "|Serde Library               |org.apache.hadoop.hive.ql.io.parquet.serde.ParquetHiveSerDe   |       |\n",
            "|InputFormat                 |org.apache.hadoop.hive.ql.io.parquet.MapredParquetInputFormat |       |\n",
            "|OutputFormat                |org.apache.hadoop.hive.ql.io.parquet.MapredParquetOutputFormat|       |\n",
            "|Storage Properties          |[serialization.format=1]                                      |       |\n",
            "|Partition Provider          |Catalog                                                       |       |\n",
            "+----------------------------+--------------------------------------------------------------+-------+\n",
            "\n",
            "+----------------------------+--------------------------------------------------------------+-------+\n",
            "|col_name                    |data_type                                                     |comment|\n",
            "+----------------------------+--------------------------------------------------------------+-------+\n",
            "|nconst                      |string                                                        |null   |\n",
            "|primaryName                 |string                                                        |null   |\n",
            "|birthYear                   |int                                                           |null   |\n",
            "|deathYear                   |int                                                           |null   |\n",
            "|primaryProfession           |array<string>                                                 |null   |\n",
            "|knownForTitles              |array<string>                                                 |null   |\n",
            "|                            |                                                              |       |\n",
            "|# Detailed Table Information|                                                              |       |\n",
            "|Catalog                     |spark_catalog                                                 |       |\n",
            "|Database                    |default                                                       |       |\n",
            "|Table                       |name_basics                                                   |       |\n",
            "|Owner                       |root                                                          |       |\n",
            "|Created Time                |Wed May 24 18:16:10 UTC 2023                                  |       |\n",
            "|Last Access                 |UNKNOWN                                                       |       |\n",
            "|Created By                  |Spark 3.4.0                                                   |       |\n",
            "|Type                        |MANAGED                                                       |       |\n",
            "|Provider                    |hive                                                          |       |\n",
            "|Table Properties            |[transient_lastDdlTime=1684952170]                            |       |\n",
            "|Location                    |file:/content/spark-warehouse/name_basics                     |       |\n",
            "|Serde Library               |org.apache.hadoop.hive.ql.io.parquet.serde.ParquetHiveSerDe   |       |\n",
            "|InputFormat                 |org.apache.hadoop.hive.ql.io.parquet.MapredParquetInputFormat |       |\n",
            "|OutputFormat                |org.apache.hadoop.hive.ql.io.parquet.MapredParquetOutputFormat|       |\n",
            "|Storage Properties          |[serialization.format=1]                                      |       |\n",
            "|Partition Provider          |Catalog                                                       |       |\n",
            "+----------------------------+--------------------------------------------------------------+-------+\n",
            "\n"
          ]
        }
      ]
    },
    {
      "cell_type": "markdown",
      "source": [
        "Вопрос №0 (не оценивается, показан, как пример). Сколько произведений имеют средний рейтинг выше заданного {threshold}?"
      ],
      "metadata": {
        "id": "YHfHxnjJ2a_e"
      }
    },
    {
      "cell_type": "code",
      "source": [
        "query_0 = \"\"\"\n",
        "/*\n",
        "  Чтобы посчитать количество произведений находим все рейтинги больше, чем заданный порог.\n",
        "  Так как надо найти все произведения, а не только фильмы, нам не нужно делать фильтр по типу произведения titleType\n",
        "*/\n",
        "SELECT \n",
        "  COUNT(tconst) as cnt_above_threshold\n",
        "FROM  title_ratings\n",
        "WHERE averageRating > {threshold};\n",
        "\"\"\"\n",
        "sql(query_0, threshold=5.0).show(truncate=False)"
      ],
      "metadata": {
        "colab": {
          "base_uri": "https://localhost:8080/"
        },
        "id": "pr2IF_C70sp3",
        "outputId": "9266a29c-84a3-4aac-8481-253b4ccee0c9"
      },
      "execution_count": 7,
      "outputs": [
        {
          "output_type": "stream",
          "name": "stdout",
          "text": [
            "+-------------------+\n",
            "|cnt_above_threshold|\n",
            "+-------------------+\n",
            "|1025071            |\n",
            "+-------------------+\n",
            "\n"
          ]
        }
      ]
    },
    {
      "cell_type": "markdown",
      "source": [
        "Вопрос №1. Найдите среднюю продолжительность (title_basics:runtimeMinutes) фильмов (title_basics:titleType=movie) определенного жанра {genre}. \n",
        "\n",
        "Среднюю продолжительность надо рассчитать только для тех фильмов, где title_basics:runtimeMinutes не равен NULL. "
      ],
      "metadata": {
        "id": "I0Xdfa0T6ZUT"
      }
    },
    {
      "cell_type": "code",
      "source": [
        "query_1 = \"\"\"\n",
        "/*\n",
        "  С помощью вспомогательной таблички title_genres (создавалась на этапе initialization)\n",
        "  фильтруем все фильмы (titleType = 'movie') из title_basics по genre = LOWER({genre}).\n",
        "  В конце выводим среднее runtimeMinutes.\n",
        "*/\n",
        "\n",
        "SELECT AVG(runtimeMinutes) as answer\n",
        "FROM title_basics b\n",
        "JOIN title_genres g using(tconst)\n",
        "WHERE TRUE\n",
        "  and titleType = 'movie'\n",
        "  and genre = LOWER({genre})\n",
        "  and runtimeMinutes is not null\n",
        "\"\"\"\n",
        "sql(query_1, genre='Comedy').show(truncate=False)"
      ],
      "metadata": {
        "colab": {
          "base_uri": "https://localhost:8080/"
        },
        "id": "nJJ_XspE6kP6",
        "outputId": "07898217-ea9a-4068-e43c-9f44a33132ea"
      },
      "execution_count": 20,
      "outputs": [
        {
          "output_type": "stream",
          "name": "stdout",
          "text": [
            "+----------------+\n",
            "|answer          |\n",
            "+----------------+\n",
            "|92.5809266708541|\n",
            "+----------------+\n",
            "\n"
          ]
        }
      ]
    },
    {
      "cell_type": "markdown",
      "source": [
        "Вопрос №2. Сколько фильмов (title_basics:titleType=movie) определенного жанра (title_basics:genres) {genre} было выпущено в определенный год (title_basics:startYear) {year}?\n"
      ],
      "metadata": {
        "id": "HX4TaRQS4Mjb"
      }
    },
    {
      "cell_type": "code",
      "source": [
        "query_2 = \"\"\"\n",
        "/*\n",
        "  Из title_basics отбираем фильмы (titleType = 'movie') и год выпуска (startYear = INT({year})).\n",
        "  Жанр фильтруем привычным способом, с помощью title_genres.\n",
        "  Поскольку на каждый фильм в запросе приходится только одна строка (т. к. в title_genres одна строка на фильм-жанр, а в title_basics одна строка на фильм),\n",
        "  ответ получаем простым count'ом.\n",
        "*/\n",
        "\n",
        "SELECT count(1) as answer\n",
        "FROM title_basics b\n",
        "JOIN title_genres g using(tconst)\n",
        "WHERE TRUE\n",
        "  and titleType = 'movie'\n",
        "  and genre = LOWER({genre})\n",
        "  and startYear = INT({year})\n",
        "\"\"\"\n",
        "sql(query_2, genre='Comedy', year=2022).show(truncate=False)"
      ],
      "metadata": {
        "colab": {
          "base_uri": "https://localhost:8080/"
        },
        "id": "pOMaygnv4Wce",
        "outputId": "09be71d8-69f9-438e-8ec4-2655ef1cd553"
      },
      "execution_count": 21,
      "outputs": [
        {
          "output_type": "stream",
          "name": "stdout",
          "text": [
            "+------+\n",
            "|answer|\n",
            "+------+\n",
            "|203   |\n",
            "+------+\n",
            "\n"
          ]
        }
      ]
    },
    {
      "cell_type": "markdown",
      "source": [
        "Вопрос №3. Сколько фильмов определенного жанра (title_basics:genres) {genre}, в которых снялся конкретный актер (name_basics:primaryName) {actor}, имеют средний рейтинг (title_ratings:averageRating) выше заданного порога {threshold}?\n",
        "\n",
        "\n",
        "\n",
        "\n",
        "\n"
      ],
      "metadata": {
        "id": "BnAxHdo84q8n"
      }
    },
    {
      "cell_type": "code",
      "source": [
        "query_3 = \"\"\"\n",
        "/*\n",
        "  В подзапросе title_filter отбираем все фильмы, в которых искомый человек участвовал как актер.\n",
        "  Затем джойним title_filter на title_basics (=> оставляем все фильмы с этим актером, т. к. JOIN = INNER JOIN),\n",
        "  фильтруем жанр через title_genres, ну и достаем рейтинг из title_ratings.\n",
        "\n",
        "  Тут снова на один фильм приходится одна строка, так что используем count(1).\n",
        "*/\n",
        "\n",
        "with title_filter as (\n",
        "  SELECT tconst\n",
        "  from title_principals\n",
        "  join name_basics using(nconst)\n",
        "  WHERE LOWER(primaryName) = LOWER({actor})\n",
        "    and category = 'actor'\n",
        ")\n",
        "SELECT count(1) as answer\n",
        "FROM title_basics b\n",
        "JOIN title_filter f on f.tconst = b.tconst\n",
        "JOIN title_genres g on g.tconst = b.tconst\n",
        "JOIN title_ratings r on r.tconst = b.tconst\n",
        "WHERE TRUE\n",
        "  and titleType = 'movie'\n",
        "  and genre = LOWER({genre})\n",
        "  and averageRating > {threshold}\n",
        "\"\"\"\n",
        "sql(query_3, genre='Comedy', actor='James Cagney', threshold=5.3).show(truncate=False)"
      ],
      "metadata": {
        "colab": {
          "base_uri": "https://localhost:8080/"
        },
        "id": "izR7YzOGQOyR",
        "outputId": "50f1e692-e224-4493-d6ab-70e77eccbc8e"
      },
      "execution_count": 22,
      "outputs": [
        {
          "output_type": "stream",
          "name": "stdout",
          "text": [
            "+------+\n",
            "|answer|\n",
            "+------+\n",
            "|20    |\n",
            "+------+\n",
            "\n"
          ]
        }
      ]
    },
    {
      "cell_type": "markdown",
      "source": [
        "Вопрос №4. Сколько телесериалов (title_basics:titleType=tvSeries) в определенном жанре (title_basics:genres) {genre} имеют более определенного количества (title_episode:seasonNumber > {seasons})?\n"
      ],
      "metadata": {
        "id": "3pML6m5O42Hk"
      }
    },
    {
      "cell_type": "code",
      "source": [
        "query_4 = \"\"\"\n",
        "/*\n",
        "  Важно отфильтровать titleType = 'tvSeries', поскольку не только у этого типа бывают эпизоды (есть также tvMiniSeries).\n",
        "  А в остальном все просто - главное джойнить title_basics через parentTconst, т. е. к каждому эпизоду получить данные о сериале,\n",
        "  к которому этот эпизод относится.\n",
        "*/\n",
        "\n",
        "SELECT count(distinct e.parentTconst) as answer\n",
        "from title_episode e\n",
        "join title_basics  b on b.tconst = e.parentTconst\n",
        "join title_genres g on g.tconst = b.tconst \n",
        "                   and g.genre = LOWER({genre})\n",
        "where TRUE\n",
        "  and e.seasonNumber > INT({seasons})\n",
        "  and b.titleType = 'tvSeries'\n",
        "\"\"\"\n",
        "sql(query_4, genre='Comedy', seasons=7).show(truncate=False)"
      ],
      "metadata": {
        "id": "egSPXazk6mlr",
        "colab": {
          "base_uri": "https://localhost:8080/"
        },
        "outputId": "9d87b754-231a-475b-b160-79a50b52dcb1"
      },
      "execution_count": 23,
      "outputs": [
        {
          "output_type": "stream",
          "name": "stdout",
          "text": [
            "+------+\n",
            "|answer|\n",
            "+------+\n",
            "|995   |\n",
            "+------+\n",
            "\n"
          ]
        }
      ]
    },
    {
      "cell_type": "markdown",
      "source": [
        "Вопрос № 5. Сколько фильмов (title_basics:titleType=movie)  создал конкретный сценарист (title_crew:writers, name_basics:primaryName) {writer} в определенном жанре (title_basics:genres) {genre}?"
      ],
      "metadata": {
        "id": "c06R3Avo5jwH"
      }
    },
    {
      "cell_type": "code",
      "source": [
        "query_5  = \"\"\"\n",
        "/*\n",
        "  В первом подзапросе отбираем айдишники людей, соответствующие параметру.\n",
        "  Во втором - ищем все произведения, в которых отобранный человек участвовал в качестве сценариста \n",
        "  (для этого используем вспомогательную табличку title_writers, которая создавалась в initialization).\n",
        "  Наконец, фильтруем записи в title_basics при помощи двух джойнов (на title_filter и title_genres + g.genre = LOWER({genre})),\n",
        "  а также не забываем выбрать только фильмы (b.titleType = 'movie')\n",
        "*/\n",
        "\n",
        "with writer_filter as (\n",
        "  SELECT nconst\n",
        "  FROM name_basics\n",
        "  WHERE LOWER(primaryName) = LOWER({writer})\n",
        "),\n",
        "title_filter as (\n",
        "  SELECT tconst\n",
        "  from title_writers\n",
        "  join writer_filter using(nconst)\n",
        ")\n",
        "SELECT count(b.tconst) as answer\n",
        "FROM title_basics b\n",
        "join title_filter f on f.tconst = b.tconst\n",
        "join title_genres g on g.tconst = b.tconst \n",
        "WHERE TRUE\n",
        "  and b.titleType = 'movie'\n",
        "  and g.genre = LOWER({genre})\n",
        "\"\"\"\n",
        "sql(query_5, genre='Drama', writer='Federico Fellini').show(truncate=False)"
      ],
      "metadata": {
        "id": "Cu172vb05yKB",
        "colab": {
          "base_uri": "https://localhost:8080/"
        },
        "outputId": "aad945e8-0745-4f76-9052-8bdfc00916c3"
      },
      "execution_count": 24,
      "outputs": [
        {
          "output_type": "stream",
          "name": "stdout",
          "text": [
            "+------+\n",
            "|answer|\n",
            "+------+\n",
            "|38    |\n",
            "+------+\n",
            "\n"
          ]
        }
      ]
    },
    {
      "cell_type": "code",
      "source": [
        "# PLEASE DO NOT REMOVE THIS CELL\n",
        "\n",
        "# Generate answers\n",
        "for n in range(1, 6):\n",
        "  print(f\"-- answer {n}\\n \" + globals()[f\"query_{n}\"] + \";\\n\")"
      ],
      "metadata": {
        "id": "gmIJNzuVBqG5",
        "colab": {
          "base_uri": "https://localhost:8080/"
        },
        "outputId": "45102653-8d15-453f-eba2-bce6980fc304"
      },
      "execution_count": 26,
      "outputs": [
        {
          "output_type": "stream",
          "name": "stdout",
          "text": [
            "-- answer 1\n",
            " \n",
            "/*\n",
            "  С помощью вспомогательной таблички title_genres (создавалась на этапе initialization)\n",
            "  фильтруем все фильмы (titleType = 'movie') из title_basics по genre = LOWER({genre}).\n",
            "  В конце выводим среднее runtimeMinutes.\n",
            "*/\n",
            "\n",
            "SELECT AVG(runtimeMinutes) as answer\n",
            "FROM title_basics b\n",
            "JOIN title_genres g using(tconst)\n",
            "WHERE TRUE\n",
            "  and titleType = 'movie'\n",
            "  and genre = LOWER({genre})\n",
            "  and runtimeMinutes is not null\n",
            ";\n",
            "\n",
            "-- answer 2\n",
            " \n",
            "/*\n",
            "  Из title_basics отбираем фильмы (titleType = 'movie') и год выпуска (startYear = INT({year})).\n",
            "  Жанр фильтруем привычным способом, с помощью title_genres.\n",
            "  Поскольку на каждый фильм в запросе приходится только одна строка (т. к. в title_genres одна строка на фильм-жанр, а в title_basics одна строка на фильм),\n",
            "  ответ получаем простым count'ом.\n",
            "*/\n",
            "\n",
            "SELECT count(1) as answer\n",
            "FROM title_basics b\n",
            "JOIN title_genres g using(tconst)\n",
            "WHERE TRUE\n",
            "  and titleType = 'movie'\n",
            "  and genre = LOWER({genre})\n",
            "  and startYear = INT({year})\n",
            ";\n",
            "\n",
            "-- answer 3\n",
            " \n",
            "/*\n",
            "  В подзапросе title_filter отбираем все фильмы, в которых искомый человек участвовал как актер.\n",
            "  Затем джойним title_filter на title_basics (=> оставляем все фильмы с этим актером, т. к. JOIN = INNER JOIN),\n",
            "  фильтруем жанр через title_genres, ну и достаем рейтинг из title_ratings.\n",
            "\n",
            "  Тут снова на один фильм приходится одна строка, так что используем count(1).\n",
            "*/\n",
            "\n",
            "with title_filter as (\n",
            "  SELECT tconst\n",
            "  from title_principals\n",
            "  join name_basics using(nconst)\n",
            "  WHERE LOWER(primaryName) = LOWER({actor})\n",
            "    and category = 'actor'\n",
            ")\n",
            "SELECT count(1) as answer\n",
            "FROM title_basics b\n",
            "JOIN title_filter f on f.tconst = b.tconst\n",
            "JOIN title_genres g on g.tconst = b.tconst\n",
            "JOIN title_ratings r on r.tconst = b.tconst\n",
            "WHERE TRUE\n",
            "  and titleType = 'movie'\n",
            "  and genre = LOWER({genre})\n",
            "  and averageRating > {threshold}\n",
            ";\n",
            "\n",
            "-- answer 4\n",
            " \n",
            "/*\n",
            "  Важно отфильтровать titleType = 'tvSeries', поскольку не только у этого типа бывают эпизоды (есть также tvMiniSeries).\n",
            "  А в остальном все просто - главное джойнить title_basics через parentTconst, т. е. к каждому эпизоду получить данные о сериале,\n",
            "  к которому этот эпизод относится.\n",
            "*/\n",
            "\n",
            "SELECT count(distinct e.parentTconst) as answer\n",
            "from title_episode e\n",
            "join title_basics  b on b.tconst = e.parentTconst\n",
            "join title_genres g on g.tconst = b.tconst \n",
            "                   and g.genre = LOWER({genre})\n",
            "where TRUE\n",
            "  and e.seasonNumber > INT({seasons})\n",
            "  and b.titleType = 'tvSeries'\n",
            ";\n",
            "\n",
            "-- answer 5\n",
            " \n",
            "/*\n",
            "  В первом подзапросе отбираем айдишники людей, соответствующие параметру.\n",
            "  Во втором - ищем все произведения, в которых отобранный человек участвовал в качестве сценариста \n",
            "  (для этого используем вспомогательную табличку title_writers, которая создавалась в initialization).\n",
            "  Наконец, фильтруем записи в title_basics при помощи двух джойнов (на title_filter и title_genres + g.genre = LOWER({genre})),\n",
            "  а также не забываем выбрать только фильмы (b.titleType = 'movie')\n",
            "*/\n",
            "\n",
            "with writer_filter as (\n",
            "  SELECT nconst\n",
            "  FROM name_basics\n",
            "  WHERE LOWER(primaryName) = LOWER({writer})\n",
            "),\n",
            "title_filter as (\n",
            "  SELECT tconst\n",
            "  from title_writers\n",
            "  join writer_filter using(nconst)\n",
            ")\n",
            "SELECT count(b.tconst) as answer\n",
            "FROM title_basics b\n",
            "join title_filter f on f.tconst = b.tconst\n",
            "join title_genres g on g.tconst = b.tconst \n",
            "WHERE TRUE\n",
            "  and b.titleType = 'movie'\n",
            "  and g.genre = LOWER({genre})\n",
            ";\n",
            "\n"
          ]
        }
      ]
    },
    {
      "cell_type": "code",
      "source": [],
      "metadata": {
        "id": "19RZWs_mkHyY"
      },
      "execution_count": 25,
      "outputs": []
    }
  ]
}